{
 "cells": [
  {
   "cell_type": "code",
   "execution_count": 133,
   "id": "f789a40d-edcd-4cd4-a84a-b1c126047f71",
   "metadata": {
    "tags": []
   },
   "outputs": [],
   "source": [
    "import numpy as np\n",
    "import pandas as pd\n",
    "import requests\n",
    "import datetime\n",
    "import plotly.express as px\n",
    "import plotly.graph_objects as go\n",
    "from plotly.subplots import make_subplots\n",
    "import math"
   ]
  },
  {
   "cell_type": "code",
   "execution_count": 134,
   "id": "dc99ba1f-1f50-4193-9bfa-0890f8c17616",
   "metadata": {
    "tags": []
   },
   "outputs": [],
   "source": [
    "keys = np.loadtxt('keys.txt', dtype=str)\n",
    "key = keys[0]\n",
    "email = keys[1]"
   ]
  },
  {
   "cell_type": "code",
   "execution_count": 135,
   "id": "c2369b36-201c-490a-bc0e-1c11ca67884b",
   "metadata": {
    "tags": []
   },
   "outputs": [
    {
     "name": "stdout",
     "output_type": "stream",
     "text": [
      "['!Fa0kkOfnDVSEAsJUs-m' 'cnewton@insightcrime.org']\n",
      "!Fa0kkOfnDVSEAsJUs-m\n",
      "cnewton@insightcrime.org\n"
     ]
    }
   ],
   "source": [
    "print(keys)\n",
    "print(key)\n",
    "print(email)"
   ]
  },
  {
   "cell_type": "code",
   "execution_count": 136,
   "id": "c8696e4f-e14d-4c2a-87c0-01681961df5c",
   "metadata": {
    "tags": []
   },
   "outputs": [],
   "source": [
    "api_url = f\"https://api.acleddata.com/acled/read?key={key}&email={email}&country=Colombia\""
   ]
  },
  {
   "cell_type": "code",
   "execution_count": 137,
   "id": "8cb89a01-74c8-49f8-89e3-a25b41b01e38",
   "metadata": {
    "tags": []
   },
   "outputs": [
    {
     "name": "stdout",
     "output_type": "stream",
     "text": [
      "https://api.acleddata.com/acled/read?key=!Fa0kkOfnDVSEAsJUs-m&email=cnewton@insightcrime.org&country=Colombia\n"
     ]
    }
   ],
   "source": [
    "print(api_url)"
   ]
  },
  {
   "cell_type": "code",
   "execution_count": null,
   "id": "41ab4b3d-8900-40c5-b667-d957a86f03cd",
   "metadata": {},
   "outputs": [],
   "source": []
  },
  {
   "cell_type": "code",
   "execution_count": 138,
   "id": "ae3e9c57-2e9f-4bb1-9142-366d01a1ddf1",
   "metadata": {
    "tags": []
   },
   "outputs": [
    {
     "data": {
      "text/html": [
       "<div>\n",
       "<style scoped>\n",
       "    .dataframe tbody tr th:only-of-type {\n",
       "        vertical-align: middle;\n",
       "    }\n",
       "\n",
       "    .dataframe tbody tr th {\n",
       "        vertical-align: top;\n",
       "    }\n",
       "\n",
       "    .dataframe thead th {\n",
       "        text-align: right;\n",
       "    }\n",
       "</style>\n",
       "<table border=\"1\" class=\"dataframe\">\n",
       "  <thead>\n",
       "    <tr style=\"text-align: right;\">\n",
       "      <th></th>\n",
       "      <th>event_id_cnty</th>\n",
       "      <th>event_date</th>\n",
       "      <th>year</th>\n",
       "      <th>time_precision</th>\n",
       "      <th>disorder_type</th>\n",
       "      <th>event_type</th>\n",
       "      <th>sub_event_type</th>\n",
       "      <th>actor1</th>\n",
       "      <th>assoc_actor_1</th>\n",
       "      <th>inter1</th>\n",
       "      <th>actor2</th>\n",
       "      <th>assoc_actor_2</th>\n",
       "      <th>inter2</th>\n",
       "      <th>interaction</th>\n",
       "      <th>civilian_targeting</th>\n",
       "      <th>iso</th>\n",
       "      <th>region</th>\n",
       "      <th>country</th>\n",
       "      <th>admin1</th>\n",
       "      <th>admin2</th>\n",
       "      <th>admin3</th>\n",
       "      <th>location</th>\n",
       "      <th>latitude</th>\n",
       "      <th>longitude</th>\n",
       "      <th>geo_precision</th>\n",
       "      <th>source</th>\n",
       "      <th>source_scale</th>\n",
       "      <th>notes</th>\n",
       "      <th>fatalities</th>\n",
       "      <th>tags</th>\n",
       "      <th>timestamp</th>\n",
       "    </tr>\n",
       "  </thead>\n",
       "  <tbody>\n",
       "    <tr>\n",
       "      <th>0</th>\n",
       "      <td>COL26903</td>\n",
       "      <td>2024-05-17</td>\n",
       "      <td>2024</td>\n",
       "      <td>1</td>\n",
       "      <td>Political violence</td>\n",
       "      <td>Riots</td>\n",
       "      <td>Mob violence</td>\n",
       "      <td>Rioters (Colombia)</td>\n",
       "      <td>Prisoners (Colombia)</td>\n",
       "      <td>5</td>\n",
       "      <td>Police Forces of Colombia (2022-) Prison Guards</td>\n",
       "      <td></td>\n",
       "      <td>1</td>\n",
       "      <td>15</td>\n",
       "      <td></td>\n",
       "      <td>170</td>\n",
       "      <td>South America</td>\n",
       "      <td>Colombia</td>\n",
       "      <td>Bogota, D.C.</td>\n",
       "      <td>Bogota, D.C.</td>\n",
       "      <td></td>\n",
       "      <td>Bogota - Puente Aranda</td>\n",
       "      <td>4.6333</td>\n",
       "      <td>-74.1167</td>\n",
       "      <td>1</td>\n",
       "      <td>El Espectador; El Pais (Colombia); El Tiempo (...</td>\n",
       "      <td>National</td>\n",
       "      <td>On 17 May 2024, in Bogota - Puente Aranda (Bog...</td>\n",
       "      <td>0</td>\n",
       "      <td>crowd size= no report</td>\n",
       "      <td>1716240617</td>\n",
       "    </tr>\n",
       "    <tr>\n",
       "      <th>1</th>\n",
       "      <td>COL26918</td>\n",
       "      <td>2024-05-17</td>\n",
       "      <td>2024</td>\n",
       "      <td>1</td>\n",
       "      <td>Demonstrations</td>\n",
       "      <td>Protests</td>\n",
       "      <td>Peaceful protest</td>\n",
       "      <td>Protesters (Colombia)</td>\n",
       "      <td>Labor Group (Colombia)</td>\n",
       "      <td>6</td>\n",
       "      <td></td>\n",
       "      <td></td>\n",
       "      <td>0</td>\n",
       "      <td>60</td>\n",
       "      <td></td>\n",
       "      <td>170</td>\n",
       "      <td>South America</td>\n",
       "      <td>Colombia</td>\n",
       "      <td>Atlantico</td>\n",
       "      <td>Barranquilla</td>\n",
       "      <td></td>\n",
       "      <td>Barranquilla</td>\n",
       "      <td>10.9799</td>\n",
       "      <td>-74.8013</td>\n",
       "      <td>1</td>\n",
       "      <td>El Pais (Colombia)</td>\n",
       "      <td>National</td>\n",
       "      <td>On 17 May 2024, in Barranquilla (Atlantico), f...</td>\n",
       "      <td>0</td>\n",
       "      <td>crowd size= no report</td>\n",
       "      <td>1716240617</td>\n",
       "    </tr>\n",
       "    <tr>\n",
       "      <th>2</th>\n",
       "      <td>COL26939</td>\n",
       "      <td>2024-05-17</td>\n",
       "      <td>2024</td>\n",
       "      <td>1</td>\n",
       "      <td>Political violence</td>\n",
       "      <td>Explosions/Remote violence</td>\n",
       "      <td>Remote explosive/landmine/IED</td>\n",
       "      <td>FARC Dissident - Dagoberto Ramos: Revolutionar...</td>\n",
       "      <td></td>\n",
       "      <td>2</td>\n",
       "      <td>Civilians (Colombia)</td>\n",
       "      <td></td>\n",
       "      <td>7</td>\n",
       "      <td>27</td>\n",
       "      <td>Civilian targeting</td>\n",
       "      <td>170</td>\n",
       "      <td>South America</td>\n",
       "      <td>Colombia</td>\n",
       "      <td>Cauca</td>\n",
       "      <td>Miranda</td>\n",
       "      <td></td>\n",
       "      <td>Miranda</td>\n",
       "      <td>3.2531</td>\n",
       "      <td>-76.2289</td>\n",
       "      <td>2</td>\n",
       "      <td>Diario del Sur (Colombia); El Pais (Colombia)</td>\n",
       "      <td>National</td>\n",
       "      <td>On 17 May 2024, between Miranda and Corinto mu...</td>\n",
       "      <td>1</td>\n",
       "      <td></td>\n",
       "      <td>1716240617</td>\n",
       "    </tr>\n",
       "    <tr>\n",
       "      <th>3</th>\n",
       "      <td>COL26889</td>\n",
       "      <td>2024-05-16</td>\n",
       "      <td>2024</td>\n",
       "      <td>1</td>\n",
       "      <td>Political violence</td>\n",
       "      <td>Violence against civilians</td>\n",
       "      <td>Attack</td>\n",
       "      <td>Police Forces of Colombia (2022-)</td>\n",
       "      <td></td>\n",
       "      <td>1</td>\n",
       "      <td>Civilians (Colombia)</td>\n",
       "      <td>Journalists (Colombia)</td>\n",
       "      <td>7</td>\n",
       "      <td>17</td>\n",
       "      <td>Civilian targeting</td>\n",
       "      <td>170</td>\n",
       "      <td>South America</td>\n",
       "      <td>Colombia</td>\n",
       "      <td>Bogota, D.C.</td>\n",
       "      <td>Bogota, D.C.</td>\n",
       "      <td></td>\n",
       "      <td>Bogota - Barrios Unidos</td>\n",
       "      <td>4.6767</td>\n",
       "      <td>-74.0806</td>\n",
       "      <td>1</td>\n",
       "      <td>El Espectador</td>\n",
       "      <td>National</td>\n",
       "      <td>On 16 May 2024, in Bogota - Barrios Unidos (Bo...</td>\n",
       "      <td>0</td>\n",
       "      <td></td>\n",
       "      <td>1716240617</td>\n",
       "    </tr>\n",
       "    <tr>\n",
       "      <th>4</th>\n",
       "      <td>COL26890</td>\n",
       "      <td>2024-05-16</td>\n",
       "      <td>2024</td>\n",
       "      <td>1</td>\n",
       "      <td>Political violence</td>\n",
       "      <td>Violence against civilians</td>\n",
       "      <td>Attack</td>\n",
       "      <td>Unidentified Armed Group (Colombia)</td>\n",
       "      <td></td>\n",
       "      <td>3</td>\n",
       "      <td>Civilians (Colombia)</td>\n",
       "      <td>Former Military Forces of Colombia (2022-); Go...</td>\n",
       "      <td>7</td>\n",
       "      <td>37</td>\n",
       "      <td>Civilian targeting</td>\n",
       "      <td>170</td>\n",
       "      <td>South America</td>\n",
       "      <td>Colombia</td>\n",
       "      <td>Bogota, D.C.</td>\n",
       "      <td>Bogota, D.C.</td>\n",
       "      <td></td>\n",
       "      <td>Bogota - Barrios Unidos</td>\n",
       "      <td>4.6767</td>\n",
       "      <td>-74.0806</td>\n",
       "      <td>1</td>\n",
       "      <td>El Espectador; El Pais (Colombia); El Tiempo (...</td>\n",
       "      <td>National</td>\n",
       "      <td>On 16 May 2024, in Bogota - Barrios Unidos (Bo...</td>\n",
       "      <td>1</td>\n",
       "      <td></td>\n",
       "      <td>1716240617</td>\n",
       "    </tr>\n",
       "    <tr>\n",
       "      <th>...</th>\n",
       "      <td>...</td>\n",
       "      <td>...</td>\n",
       "      <td>...</td>\n",
       "      <td>...</td>\n",
       "      <td>...</td>\n",
       "      <td>...</td>\n",
       "      <td>...</td>\n",
       "      <td>...</td>\n",
       "      <td>...</td>\n",
       "      <td>...</td>\n",
       "      <td>...</td>\n",
       "      <td>...</td>\n",
       "      <td>...</td>\n",
       "      <td>...</td>\n",
       "      <td>...</td>\n",
       "      <td>...</td>\n",
       "      <td>...</td>\n",
       "      <td>...</td>\n",
       "      <td>...</td>\n",
       "      <td>...</td>\n",
       "      <td>...</td>\n",
       "      <td>...</td>\n",
       "      <td>...</td>\n",
       "      <td>...</td>\n",
       "      <td>...</td>\n",
       "      <td>...</td>\n",
       "      <td>...</td>\n",
       "      <td>...</td>\n",
       "      <td>...</td>\n",
       "      <td>...</td>\n",
       "      <td>...</td>\n",
       "    </tr>\n",
       "    <tr>\n",
       "      <th>4995</th>\n",
       "      <td>COL20949</td>\n",
       "      <td>2023-06-04</td>\n",
       "      <td>2023</td>\n",
       "      <td>2</td>\n",
       "      <td>Demonstrations</td>\n",
       "      <td>Protests</td>\n",
       "      <td>Peaceful protest</td>\n",
       "      <td>Protesters (Colombia)</td>\n",
       "      <td></td>\n",
       "      <td>6</td>\n",
       "      <td></td>\n",
       "      <td></td>\n",
       "      <td>0</td>\n",
       "      <td>60</td>\n",
       "      <td></td>\n",
       "      <td>170</td>\n",
       "      <td>South America</td>\n",
       "      <td>Colombia</td>\n",
       "      <td>Caldas</td>\n",
       "      <td>Manizales</td>\n",
       "      <td></td>\n",
       "      <td>Manizales</td>\n",
       "      <td>5.0577</td>\n",
       "      <td>-75.4911</td>\n",
       "      <td>1</td>\n",
       "      <td>W Radio</td>\n",
       "      <td>National</td>\n",
       "      <td>Around 4 June 2023 (as reported), in Manizales...</td>\n",
       "      <td>0</td>\n",
       "      <td>crowd size=no report</td>\n",
       "      <td>1686601732</td>\n",
       "    </tr>\n",
       "    <tr>\n",
       "      <th>4996</th>\n",
       "      <td>COL21009</td>\n",
       "      <td>2023-06-04</td>\n",
       "      <td>2023</td>\n",
       "      <td>2</td>\n",
       "      <td>Political violence</td>\n",
       "      <td>Violence against civilians</td>\n",
       "      <td>Attack</td>\n",
       "      <td>Unidentified Armed Group (Colombia)</td>\n",
       "      <td></td>\n",
       "      <td>3</td>\n",
       "      <td>Civilians (Venezuela)</td>\n",
       "      <td></td>\n",
       "      <td>7</td>\n",
       "      <td>37</td>\n",
       "      <td>Civilian targeting</td>\n",
       "      <td>170</td>\n",
       "      <td>South America</td>\n",
       "      <td>Colombia</td>\n",
       "      <td>Norte de Santander</td>\n",
       "      <td>Cucuta</td>\n",
       "      <td></td>\n",
       "      <td>Agua Clara</td>\n",
       "      <td>8.2348</td>\n",
       "      <td>-72.4271</td>\n",
       "      <td>2</td>\n",
       "      <td>La Opinion (Colombia)</td>\n",
       "      <td>Subnational</td>\n",
       "      <td>Around 4 June 2023 (as reported), in the rural...</td>\n",
       "      <td>1</td>\n",
       "      <td></td>\n",
       "      <td>1686601732</td>\n",
       "    </tr>\n",
       "    <tr>\n",
       "      <th>4997</th>\n",
       "      <td>COL21021</td>\n",
       "      <td>2023-06-04</td>\n",
       "      <td>2023</td>\n",
       "      <td>1</td>\n",
       "      <td>Political violence</td>\n",
       "      <td>Violence against civilians</td>\n",
       "      <td>Attack</td>\n",
       "      <td>Unidentified Armed Group (Colombia)</td>\n",
       "      <td></td>\n",
       "      <td>3</td>\n",
       "      <td>Civilians (Colombia)</td>\n",
       "      <td>Labor Group (Colombia)</td>\n",
       "      <td>7</td>\n",
       "      <td>37</td>\n",
       "      <td>Civilian targeting</td>\n",
       "      <td>170</td>\n",
       "      <td>South America</td>\n",
       "      <td>Colombia</td>\n",
       "      <td>Putumayo</td>\n",
       "      <td>Villagarzon</td>\n",
       "      <td></td>\n",
       "      <td>Villagarzon</td>\n",
       "      <td>1.0289</td>\n",
       "      <td>-76.6172</td>\n",
       "      <td>1</td>\n",
       "      <td>El Pais (Colombia); El Tiempo (Colombia); INDEPAZ</td>\n",
       "      <td>Other-National</td>\n",
       "      <td>On 4 June 2023, in Villagarzon (Putumayo), uni...</td>\n",
       "      <td>3</td>\n",
       "      <td></td>\n",
       "      <td>1686601732</td>\n",
       "    </tr>\n",
       "    <tr>\n",
       "      <th>4998</th>\n",
       "      <td>COL21026</td>\n",
       "      <td>2023-06-04</td>\n",
       "      <td>2023</td>\n",
       "      <td>1</td>\n",
       "      <td>Political violence</td>\n",
       "      <td>Violence against civilians</td>\n",
       "      <td>Attack</td>\n",
       "      <td>Police Forces of Colombia (2022-)</td>\n",
       "      <td></td>\n",
       "      <td>1</td>\n",
       "      <td>Civilians (Colombia)</td>\n",
       "      <td></td>\n",
       "      <td>7</td>\n",
       "      <td>17</td>\n",
       "      <td>Civilian targeting</td>\n",
       "      <td>170</td>\n",
       "      <td>South America</td>\n",
       "      <td>Colombia</td>\n",
       "      <td>Tolima</td>\n",
       "      <td>Chaparral</td>\n",
       "      <td></td>\n",
       "      <td>Chaparral</td>\n",
       "      <td>3.7231</td>\n",
       "      <td>-75.4807</td>\n",
       "      <td>1</td>\n",
       "      <td>El Nuevo Dia (Colombia)</td>\n",
       "      <td>National</td>\n",
       "      <td>On 4 June 2023, in Chaparral (Tolima), a polic...</td>\n",
       "      <td>1</td>\n",
       "      <td></td>\n",
       "      <td>1686601732</td>\n",
       "    </tr>\n",
       "    <tr>\n",
       "      <th>4999</th>\n",
       "      <td>COL20940</td>\n",
       "      <td>2023-06-04</td>\n",
       "      <td>2023</td>\n",
       "      <td>2</td>\n",
       "      <td>Political violence</td>\n",
       "      <td>Violence against civilians</td>\n",
       "      <td>Attack</td>\n",
       "      <td>Unidentified Armed Group (Colombia)</td>\n",
       "      <td></td>\n",
       "      <td>3</td>\n",
       "      <td>Civilians (Colombia)</td>\n",
       "      <td></td>\n",
       "      <td>7</td>\n",
       "      <td>37</td>\n",
       "      <td>Civilian targeting</td>\n",
       "      <td>170</td>\n",
       "      <td>South America</td>\n",
       "      <td>Colombia</td>\n",
       "      <td>Bolivar</td>\n",
       "      <td>Morales</td>\n",
       "      <td></td>\n",
       "      <td>Morales</td>\n",
       "      <td>8.2763</td>\n",
       "      <td>-73.8681</td>\n",
       "      <td>2</td>\n",
       "      <td>El Universal (Colombia); Monitor - OCHA Colombia</td>\n",
       "      <td>Other-National</td>\n",
       "      <td>Around 4 June 2023 (as reported), in the rural...</td>\n",
       "      <td>1</td>\n",
       "      <td></td>\n",
       "      <td>1694475474</td>\n",
       "    </tr>\n",
       "  </tbody>\n",
       "</table>\n",
       "<p>5000 rows × 31 columns</p>\n",
       "</div>"
      ],
      "text/plain": [
       "     event_id_cnty  event_date  year time_precision       disorder_type  \\\n",
       "0         COL26903  2024-05-17  2024              1  Political violence   \n",
       "1         COL26918  2024-05-17  2024              1      Demonstrations   \n",
       "2         COL26939  2024-05-17  2024              1  Political violence   \n",
       "3         COL26889  2024-05-16  2024              1  Political violence   \n",
       "4         COL26890  2024-05-16  2024              1  Political violence   \n",
       "...            ...         ...   ...            ...                 ...   \n",
       "4995      COL20949  2023-06-04  2023              2      Demonstrations   \n",
       "4996      COL21009  2023-06-04  2023              2  Political violence   \n",
       "4997      COL21021  2023-06-04  2023              1  Political violence   \n",
       "4998      COL21026  2023-06-04  2023              1  Political violence   \n",
       "4999      COL20940  2023-06-04  2023              2  Political violence   \n",
       "\n",
       "                      event_type                 sub_event_type  \\\n",
       "0                          Riots                   Mob violence   \n",
       "1                       Protests               Peaceful protest   \n",
       "2     Explosions/Remote violence  Remote explosive/landmine/IED   \n",
       "3     Violence against civilians                         Attack   \n",
       "4     Violence against civilians                         Attack   \n",
       "...                          ...                            ...   \n",
       "4995                    Protests               Peaceful protest   \n",
       "4996  Violence against civilians                         Attack   \n",
       "4997  Violence against civilians                         Attack   \n",
       "4998  Violence against civilians                         Attack   \n",
       "4999  Violence against civilians                         Attack   \n",
       "\n",
       "                                                 actor1  \\\n",
       "0                                    Rioters (Colombia)   \n",
       "1                                 Protesters (Colombia)   \n",
       "2     FARC Dissident - Dagoberto Ramos: Revolutionar...   \n",
       "3                     Police Forces of Colombia (2022-)   \n",
       "4                   Unidentified Armed Group (Colombia)   \n",
       "...                                                 ...   \n",
       "4995                              Protesters (Colombia)   \n",
       "4996                Unidentified Armed Group (Colombia)   \n",
       "4997                Unidentified Armed Group (Colombia)   \n",
       "4998                  Police Forces of Colombia (2022-)   \n",
       "4999                Unidentified Armed Group (Colombia)   \n",
       "\n",
       "               assoc_actor_1 inter1  \\\n",
       "0       Prisoners (Colombia)      5   \n",
       "1     Labor Group (Colombia)      6   \n",
       "2                                 2   \n",
       "3                                 1   \n",
       "4                                 3   \n",
       "...                      ...    ...   \n",
       "4995                              6   \n",
       "4996                              3   \n",
       "4997                              3   \n",
       "4998                              1   \n",
       "4999                              3   \n",
       "\n",
       "                                               actor2  \\\n",
       "0     Police Forces of Colombia (2022-) Prison Guards   \n",
       "1                                                       \n",
       "2                                Civilians (Colombia)   \n",
       "3                                Civilians (Colombia)   \n",
       "4                                Civilians (Colombia)   \n",
       "...                                               ...   \n",
       "4995                                                    \n",
       "4996                            Civilians (Venezuela)   \n",
       "4997                             Civilians (Colombia)   \n",
       "4998                             Civilians (Colombia)   \n",
       "4999                             Civilians (Colombia)   \n",
       "\n",
       "                                          assoc_actor_2 inter2 interaction  \\\n",
       "0                                                            1          15   \n",
       "1                                                            0          60   \n",
       "2                                                            7          27   \n",
       "3                                Journalists (Colombia)      7          17   \n",
       "4     Former Military Forces of Colombia (2022-); Go...      7          37   \n",
       "...                                                 ...    ...         ...   \n",
       "4995                                                         0          60   \n",
       "4996                                                         7          37   \n",
       "4997                             Labor Group (Colombia)      7          37   \n",
       "4998                                                         7          17   \n",
       "4999                                                         7          37   \n",
       "\n",
       "      civilian_targeting  iso         region   country              admin1  \\\n",
       "0                         170  South America  Colombia        Bogota, D.C.   \n",
       "1                         170  South America  Colombia           Atlantico   \n",
       "2     Civilian targeting  170  South America  Colombia               Cauca   \n",
       "3     Civilian targeting  170  South America  Colombia        Bogota, D.C.   \n",
       "4     Civilian targeting  170  South America  Colombia        Bogota, D.C.   \n",
       "...                  ...  ...            ...       ...                 ...   \n",
       "4995                      170  South America  Colombia              Caldas   \n",
       "4996  Civilian targeting  170  South America  Colombia  Norte de Santander   \n",
       "4997  Civilian targeting  170  South America  Colombia            Putumayo   \n",
       "4998  Civilian targeting  170  South America  Colombia              Tolima   \n",
       "4999  Civilian targeting  170  South America  Colombia             Bolivar   \n",
       "\n",
       "            admin2 admin3                 location latitude longitude  \\\n",
       "0     Bogota, D.C.          Bogota - Puente Aranda   4.6333  -74.1167   \n",
       "1     Barranquilla                    Barranquilla  10.9799  -74.8013   \n",
       "2          Miranda                         Miranda   3.2531  -76.2289   \n",
       "3     Bogota, D.C.         Bogota - Barrios Unidos   4.6767  -74.0806   \n",
       "4     Bogota, D.C.         Bogota - Barrios Unidos   4.6767  -74.0806   \n",
       "...            ...    ...                      ...      ...       ...   \n",
       "4995     Manizales                       Manizales   5.0577  -75.4911   \n",
       "4996        Cucuta                      Agua Clara   8.2348  -72.4271   \n",
       "4997   Villagarzon                     Villagarzon   1.0289  -76.6172   \n",
       "4998     Chaparral                       Chaparral   3.7231  -75.4807   \n",
       "4999       Morales                         Morales   8.2763  -73.8681   \n",
       "\n",
       "     geo_precision                                             source  \\\n",
       "0                1  El Espectador; El Pais (Colombia); El Tiempo (...   \n",
       "1                1                                 El Pais (Colombia)   \n",
       "2                2      Diario del Sur (Colombia); El Pais (Colombia)   \n",
       "3                1                                      El Espectador   \n",
       "4                1  El Espectador; El Pais (Colombia); El Tiempo (...   \n",
       "...            ...                                                ...   \n",
       "4995             1                                            W Radio   \n",
       "4996             2                              La Opinion (Colombia)   \n",
       "4997             1  El Pais (Colombia); El Tiempo (Colombia); INDEPAZ   \n",
       "4998             1                            El Nuevo Dia (Colombia)   \n",
       "4999             2   El Universal (Colombia); Monitor - OCHA Colombia   \n",
       "\n",
       "        source_scale                                              notes  \\\n",
       "0           National  On 17 May 2024, in Bogota - Puente Aranda (Bog...   \n",
       "1           National  On 17 May 2024, in Barranquilla (Atlantico), f...   \n",
       "2           National  On 17 May 2024, between Miranda and Corinto mu...   \n",
       "3           National  On 16 May 2024, in Bogota - Barrios Unidos (Bo...   \n",
       "4           National  On 16 May 2024, in Bogota - Barrios Unidos (Bo...   \n",
       "...              ...                                                ...   \n",
       "4995        National  Around 4 June 2023 (as reported), in Manizales...   \n",
       "4996     Subnational  Around 4 June 2023 (as reported), in the rural...   \n",
       "4997  Other-National  On 4 June 2023, in Villagarzon (Putumayo), uni...   \n",
       "4998        National  On 4 June 2023, in Chaparral (Tolima), a polic...   \n",
       "4999  Other-National  Around 4 June 2023 (as reported), in the rural...   \n",
       "\n",
       "     fatalities                   tags   timestamp  \n",
       "0             0  crowd size= no report  1716240617  \n",
       "1             0  crowd size= no report  1716240617  \n",
       "2             1                         1716240617  \n",
       "3             0                         1716240617  \n",
       "4             1                         1716240617  \n",
       "...         ...                    ...         ...  \n",
       "4995          0   crowd size=no report  1686601732  \n",
       "4996          1                         1686601732  \n",
       "4997          3                         1686601732  \n",
       "4998          1                         1686601732  \n",
       "4999          1                         1694475474  \n",
       "\n",
       "[5000 rows x 31 columns]"
      ]
     },
     "execution_count": 138,
     "metadata": {},
     "output_type": "execute_result"
    }
   ],
   "source": [
    "api_call = requests.get(api_url)\n",
    "json_data = api_call.json()\n",
    "df = pd.DataFrame(json_data['data'])\n",
    "df"
   ]
  },
  {
   "cell_type": "markdown",
   "id": "ea912998-8fd2-4351-9bf1-86153b5a2e34",
   "metadata": {
    "tags": []
   },
   "source": [
    "## Events and subevents the team is monnitoring\n",
    "### Events:\n",
    "#### ACLED Events:\n",
    "     Battles\n",
    "     Explosions/Remote violence              \n",
    "     Strategic developments\n",
    "     Violence against civilians\n",
    "\n",
    "#### ACLED Sub Events:\n",
    "     Abduction/forced disappearance                  \n",
    "     Armed clash                       \n",
    "     Arrests\n",
    "     Attack      \n",
    "     Change to group/activity         \n",
    "     Disrupted weapons use\n",
    "     Grenade  \n",
    "     Remote explosive/landmine/IED               \n",
    "     Sexual violence"
   ]
  },
  {
   "cell_type": "code",
   "execution_count": 139,
   "id": "4fdccc2e-e2e6-4376-9abc-584784ef104b",
   "metadata": {
    "tags": []
   },
   "outputs": [
    {
     "name": "stdout",
     "output_type": "stream",
     "text": [
      "5\n",
      "3\n",
      "4\n"
     ]
    }
   ],
   "source": [
    "mes_actual = datetime.datetime.now().month\n",
    "print(mes_actual)\n",
    "\n",
    "dos_meses = (mes_actual - 2) % 12 if mes_actual > 2 else 12 + (mes_actual - 2)\n",
    "mes_anterior = (mes_actual - 1) % 12 if mes_actual > 1 else 12\n",
    "print(dos_meses)\n",
    "print(mes_anterior)"
   ]
  },
  {
   "cell_type": "code",
   "execution_count": null,
   "id": "e6184ae0-cb85-4e5a-bea1-2d7efaa0f3b3",
   "metadata": {},
   "outputs": [],
   "source": []
  },
  {
   "cell_type": "code",
   "execution_count": 140,
   "id": "4f5cbece-b2eb-4699-a1e3-58b854b422fb",
   "metadata": {
    "tags": []
   },
   "outputs": [
    {
     "name": "stderr",
     "output_type": "stream",
     "text": [
      "/var/folders/r6/5x15py7x16s1k88rwqp8v10w0000gn/T/ipykernel_10511/3533653940.py:2: SettingWithCopyWarning:\n",
      "\n",
      "\n",
      "A value is trying to be set on a copy of a slice from a DataFrame.\n",
      "Try using .loc[row_indexer,col_indexer] = value instead\n",
      "\n",
      "See the caveats in the documentation: https://pandas.pydata.org/pandas-docs/stable/user_guide/indexing.html#returning-a-view-versus-a-copy\n",
      "\n"
     ]
    },
    {
     "data": {
      "text/html": [
       "<div>\n",
       "<style scoped>\n",
       "    .dataframe tbody tr th:only-of-type {\n",
       "        vertical-align: middle;\n",
       "    }\n",
       "\n",
       "    .dataframe tbody tr th {\n",
       "        vertical-align: top;\n",
       "    }\n",
       "\n",
       "    .dataframe thead th {\n",
       "        text-align: right;\n",
       "    }\n",
       "</style>\n",
       "<table border=\"1\" class=\"dataframe\">\n",
       "  <thead>\n",
       "    <tr style=\"text-align: right;\">\n",
       "      <th></th>\n",
       "      <th>event_id_cnty</th>\n",
       "      <th>event_date</th>\n",
       "      <th>year</th>\n",
       "      <th>time_precision</th>\n",
       "      <th>disorder_type</th>\n",
       "      <th>event_type</th>\n",
       "      <th>sub_event_type</th>\n",
       "      <th>actor1</th>\n",
       "      <th>assoc_actor_1</th>\n",
       "      <th>inter1</th>\n",
       "      <th>actor2</th>\n",
       "      <th>assoc_actor_2</th>\n",
       "      <th>inter2</th>\n",
       "      <th>interaction</th>\n",
       "      <th>civilian_targeting</th>\n",
       "      <th>iso</th>\n",
       "      <th>region</th>\n",
       "      <th>country</th>\n",
       "      <th>admin1</th>\n",
       "      <th>admin2</th>\n",
       "      <th>admin3</th>\n",
       "      <th>location</th>\n",
       "      <th>latitude</th>\n",
       "      <th>longitude</th>\n",
       "      <th>geo_precision</th>\n",
       "      <th>source</th>\n",
       "      <th>source_scale</th>\n",
       "      <th>notes</th>\n",
       "      <th>fatalities</th>\n",
       "      <th>tags</th>\n",
       "      <th>timestamp</th>\n",
       "      <th>month</th>\n",
       "      <th>events</th>\n",
       "    </tr>\n",
       "  </thead>\n",
       "  <tbody>\n",
       "    <tr>\n",
       "      <th>187</th>\n",
       "      <td>COL26671</td>\n",
       "      <td>2024-04-30</td>\n",
       "      <td>2024</td>\n",
       "      <td>1</td>\n",
       "      <td>Political violence</td>\n",
       "      <td>Battles</td>\n",
       "      <td>Armed clash</td>\n",
       "      <td>Military Forces of Colombia (2022-)</td>\n",
       "      <td></td>\n",
       "      <td>1</td>\n",
       "      <td>FARC Dissident - 57th Front: Revolutionary Arm...</td>\n",
       "      <td></td>\n",
       "      <td>2</td>\n",
       "      <td>12</td>\n",
       "      <td></td>\n",
       "      <td>170</td>\n",
       "      <td>South America</td>\n",
       "      <td>Colombia</td>\n",
       "      <td>Cauca</td>\n",
       "      <td>Corinto</td>\n",
       "      <td></td>\n",
       "      <td>Corinto</td>\n",
       "      <td>3.1738</td>\n",
       "      <td>-76.2613</td>\n",
       "      <td>1</td>\n",
       "      <td>Monitor - OCHA Colombia</td>\n",
       "      <td>Other</td>\n",
       "      <td>On 30 April 2024, in Corinto (Cauca), military...</td>\n",
       "      <td>0</td>\n",
       "      <td></td>\n",
       "      <td>1715049319</td>\n",
       "      <td>4</td>\n",
       "      <td>1</td>\n",
       "    </tr>\n",
       "    <tr>\n",
       "      <th>188</th>\n",
       "      <td>COL26690</td>\n",
       "      <td>2024-04-30</td>\n",
       "      <td>2024</td>\n",
       "      <td>1</td>\n",
       "      <td>Political violence</td>\n",
       "      <td>Violence against civilians</td>\n",
       "      <td>Attack</td>\n",
       "      <td>Unidentified Armed Group (Colombia)</td>\n",
       "      <td></td>\n",
       "      <td>3</td>\n",
       "      <td>Civilians (Colombia)</td>\n",
       "      <td>JAC: Council of Communal Action</td>\n",
       "      <td>7</td>\n",
       "      <td>37</td>\n",
       "      <td>Civilian targeting</td>\n",
       "      <td>170</td>\n",
       "      <td>South America</td>\n",
       "      <td>Colombia</td>\n",
       "      <td>Arauca</td>\n",
       "      <td>Arauca</td>\n",
       "      <td></td>\n",
       "      <td>Arauca</td>\n",
       "      <td>7.0774</td>\n",
       "      <td>-70.7464</td>\n",
       "      <td>1</td>\n",
       "      <td>INDEPAZ; La Voz del Rio Arauca</td>\n",
       "      <td>Other-Subnational</td>\n",
       "      <td>On 30 April 2024, in Arauca (Arauca), an unide...</td>\n",
       "      <td>1</td>\n",
       "      <td></td>\n",
       "      <td>1715049320</td>\n",
       "      <td>4</td>\n",
       "      <td>1</td>\n",
       "    </tr>\n",
       "    <tr>\n",
       "      <th>189</th>\n",
       "      <td>COL26710</td>\n",
       "      <td>2024-04-30</td>\n",
       "      <td>2024</td>\n",
       "      <td>1</td>\n",
       "      <td>Political violence</td>\n",
       "      <td>Riots</td>\n",
       "      <td>Mob violence</td>\n",
       "      <td>Rioters (Colombia)</td>\n",
       "      <td>Labor Group (Colombia); Women (Colombia)</td>\n",
       "      <td>5</td>\n",
       "      <td>Police Forces of Colombia (2022-)</td>\n",
       "      <td></td>\n",
       "      <td>1</td>\n",
       "      <td>15</td>\n",
       "      <td></td>\n",
       "      <td>170</td>\n",
       "      <td>South America</td>\n",
       "      <td>Colombia</td>\n",
       "      <td>Antioquia</td>\n",
       "      <td>Medellin</td>\n",
       "      <td></td>\n",
       "      <td>Medellin</td>\n",
       "      <td>6.2496</td>\n",
       "      <td>-75.5774</td>\n",
       "      <td>1</td>\n",
       "      <td>El Colombiano</td>\n",
       "      <td>Subnational</td>\n",
       "      <td>On 30 April 2024, in Medellin - Southwest (Ant...</td>\n",
       "      <td>0</td>\n",
       "      <td>crowd size=no report</td>\n",
       "      <td>1715049320</td>\n",
       "      <td>4</td>\n",
       "      <td>1</td>\n",
       "    </tr>\n",
       "    <tr>\n",
       "      <th>196</th>\n",
       "      <td>COL26658</td>\n",
       "      <td>2024-04-30</td>\n",
       "      <td>2024</td>\n",
       "      <td>1</td>\n",
       "      <td>Political violence</td>\n",
       "      <td>Violence against civilians</td>\n",
       "      <td>Abduction/forced disappearance</td>\n",
       "      <td>Unidentified Armed Group (Colombia)</td>\n",
       "      <td></td>\n",
       "      <td>3</td>\n",
       "      <td>Civilians (Colombia)</td>\n",
       "      <td>Nasa Indigenous Group (Colombia); Labor Group ...</td>\n",
       "      <td>7</td>\n",
       "      <td>37</td>\n",
       "      <td>Civilian targeting</td>\n",
       "      <td>170</td>\n",
       "      <td>South America</td>\n",
       "      <td>Colombia</td>\n",
       "      <td>Cauca</td>\n",
       "      <td>Corinto</td>\n",
       "      <td></td>\n",
       "      <td>Corinto</td>\n",
       "      <td>3.1738</td>\n",
       "      <td>-76.2613</td>\n",
       "      <td>2</td>\n",
       "      <td>Monitor - OCHA Colombia; Sucesos Cauca</td>\n",
       "      <td>Other-Subnational</td>\n",
       "      <td>On 30 April 2024, in the Corinto municipality ...</td>\n",
       "      <td>0</td>\n",
       "      <td></td>\n",
       "      <td>1715635212</td>\n",
       "      <td>4</td>\n",
       "      <td>1</td>\n",
       "    </tr>\n",
       "    <tr>\n",
       "      <th>197</th>\n",
       "      <td>COL26838</td>\n",
       "      <td>2024-04-30</td>\n",
       "      <td>2024</td>\n",
       "      <td>1</td>\n",
       "      <td>Political violence</td>\n",
       "      <td>Violence against civilians</td>\n",
       "      <td>Attack</td>\n",
       "      <td>Unidentified Armed Group (Colombia)</td>\n",
       "      <td></td>\n",
       "      <td>3</td>\n",
       "      <td>Civilians (Colombia)</td>\n",
       "      <td></td>\n",
       "      <td>7</td>\n",
       "      <td>37</td>\n",
       "      <td>Civilian targeting</td>\n",
       "      <td>170</td>\n",
       "      <td>South America</td>\n",
       "      <td>Colombia</td>\n",
       "      <td>Putumayo</td>\n",
       "      <td>Orito</td>\n",
       "      <td></td>\n",
       "      <td>Orito</td>\n",
       "      <td>0.6638</td>\n",
       "      <td>-76.8730</td>\n",
       "      <td>1</td>\n",
       "      <td>Monitor - OCHA Colombia</td>\n",
       "      <td>Other</td>\n",
       "      <td>On 30 April 2024, in Orito (Putumayo), unident...</td>\n",
       "      <td>1</td>\n",
       "      <td></td>\n",
       "      <td>1715641779</td>\n",
       "      <td>4</td>\n",
       "      <td>1</td>\n",
       "    </tr>\n",
       "    <tr>\n",
       "      <th>...</th>\n",
       "      <td>...</td>\n",
       "      <td>...</td>\n",
       "      <td>...</td>\n",
       "      <td>...</td>\n",
       "      <td>...</td>\n",
       "      <td>...</td>\n",
       "      <td>...</td>\n",
       "      <td>...</td>\n",
       "      <td>...</td>\n",
       "      <td>...</td>\n",
       "      <td>...</td>\n",
       "      <td>...</td>\n",
       "      <td>...</td>\n",
       "      <td>...</td>\n",
       "      <td>...</td>\n",
       "      <td>...</td>\n",
       "      <td>...</td>\n",
       "      <td>...</td>\n",
       "      <td>...</td>\n",
       "      <td>...</td>\n",
       "      <td>...</td>\n",
       "      <td>...</td>\n",
       "      <td>...</td>\n",
       "      <td>...</td>\n",
       "      <td>...</td>\n",
       "      <td>...</td>\n",
       "      <td>...</td>\n",
       "      <td>...</td>\n",
       "      <td>...</td>\n",
       "      <td>...</td>\n",
       "      <td>...</td>\n",
       "      <td>...</td>\n",
       "      <td>...</td>\n",
       "    </tr>\n",
       "    <tr>\n",
       "      <th>1050</th>\n",
       "      <td>COL25868</td>\n",
       "      <td>2024-03-02</td>\n",
       "      <td>2024</td>\n",
       "      <td>1</td>\n",
       "      <td>Political violence</td>\n",
       "      <td>Violence against civilians</td>\n",
       "      <td>Attack</td>\n",
       "      <td>Unidentified Armed Group (Colombia)</td>\n",
       "      <td></td>\n",
       "      <td>3</td>\n",
       "      <td>Civilians (Colombia)</td>\n",
       "      <td></td>\n",
       "      <td>7</td>\n",
       "      <td>37</td>\n",
       "      <td>Civilian targeting</td>\n",
       "      <td>170</td>\n",
       "      <td>South America</td>\n",
       "      <td>Colombia</td>\n",
       "      <td>Cesar</td>\n",
       "      <td>Valledupar</td>\n",
       "      <td></td>\n",
       "      <td>Valledupar</td>\n",
       "      <td>10.4605</td>\n",
       "      <td>-73.2594</td>\n",
       "      <td>1</td>\n",
       "      <td>El Heraldo (Colombia); El Tiempo (Colombia)</td>\n",
       "      <td>National</td>\n",
       "      <td>On 2 March 2024, in Valledupar (Cesar), uniden...</td>\n",
       "      <td>1</td>\n",
       "      <td></td>\n",
       "      <td>1710202778</td>\n",
       "      <td>3</td>\n",
       "      <td>1</td>\n",
       "    </tr>\n",
       "    <tr>\n",
       "      <th>1053</th>\n",
       "      <td>COL26343</td>\n",
       "      <td>2024-03-02</td>\n",
       "      <td>2024</td>\n",
       "      <td>2</td>\n",
       "      <td>Political violence</td>\n",
       "      <td>Violence against civilians</td>\n",
       "      <td>Attack</td>\n",
       "      <td>Unidentified Armed Group (Colombia)</td>\n",
       "      <td></td>\n",
       "      <td>3</td>\n",
       "      <td>Civilians (Venezuela)</td>\n",
       "      <td></td>\n",
       "      <td>7</td>\n",
       "      <td>37</td>\n",
       "      <td>Civilian targeting</td>\n",
       "      <td>170</td>\n",
       "      <td>South America</td>\n",
       "      <td>Colombia</td>\n",
       "      <td>Arauca</td>\n",
       "      <td>Arauca</td>\n",
       "      <td></td>\n",
       "      <td>Monserrate</td>\n",
       "      <td>7.0889</td>\n",
       "      <td>-70.7254</td>\n",
       "      <td>1</td>\n",
       "      <td>Monitor - OCHA Colombia</td>\n",
       "      <td>Other</td>\n",
       "      <td>Around 2 March 2024 (as reported), in Monserra...</td>\n",
       "      <td>1</td>\n",
       "      <td></td>\n",
       "      <td>1715049319</td>\n",
       "      <td>3</td>\n",
       "      <td>1</td>\n",
       "    </tr>\n",
       "    <tr>\n",
       "      <th>1061</th>\n",
       "      <td>COL25984</td>\n",
       "      <td>2024-03-01</td>\n",
       "      <td>2024</td>\n",
       "      <td>1</td>\n",
       "      <td>Political violence</td>\n",
       "      <td>Battles</td>\n",
       "      <td>Armed clash</td>\n",
       "      <td>Unidentified Armed Group (Colombia)</td>\n",
       "      <td></td>\n",
       "      <td>3</td>\n",
       "      <td>Unidentified Armed Group (Colombia)</td>\n",
       "      <td></td>\n",
       "      <td>3</td>\n",
       "      <td>33</td>\n",
       "      <td></td>\n",
       "      <td>170</td>\n",
       "      <td>South America</td>\n",
       "      <td>Colombia</td>\n",
       "      <td>Cauca</td>\n",
       "      <td>Balboa</td>\n",
       "      <td></td>\n",
       "      <td>Balboa</td>\n",
       "      <td>2.0405</td>\n",
       "      <td>-77.2159</td>\n",
       "      <td>2</td>\n",
       "      <td>Monitor - OCHA Colombia</td>\n",
       "      <td>Other</td>\n",
       "      <td>On 1 March 2024, in the rural area of Balboa m...</td>\n",
       "      <td>0</td>\n",
       "      <td></td>\n",
       "      <td>1710803228</td>\n",
       "      <td>3</td>\n",
       "      <td>1</td>\n",
       "    </tr>\n",
       "    <tr>\n",
       "      <th>1062</th>\n",
       "      <td>COL26060</td>\n",
       "      <td>2024-03-01</td>\n",
       "      <td>2024</td>\n",
       "      <td>2</td>\n",
       "      <td>Political violence</td>\n",
       "      <td>Violence against civilians</td>\n",
       "      <td>Attack</td>\n",
       "      <td>Unidentified Armed Group (Colombia)</td>\n",
       "      <td></td>\n",
       "      <td>3</td>\n",
       "      <td>Civilians (Colombia)</td>\n",
       "      <td></td>\n",
       "      <td>7</td>\n",
       "      <td>37</td>\n",
       "      <td>Civilian targeting</td>\n",
       "      <td>170</td>\n",
       "      <td>South America</td>\n",
       "      <td>Colombia</td>\n",
       "      <td>Norte de Santander</td>\n",
       "      <td>Cucuta</td>\n",
       "      <td></td>\n",
       "      <td>Cucuta</td>\n",
       "      <td>7.8939</td>\n",
       "      <td>-72.5078</td>\n",
       "      <td>1</td>\n",
       "      <td>Monitor - OCHA Colombia</td>\n",
       "      <td>Other</td>\n",
       "      <td>Around 1 March 2024 (as reported), in Cucuta -...</td>\n",
       "      <td>0</td>\n",
       "      <td></td>\n",
       "      <td>1711409511</td>\n",
       "      <td>3</td>\n",
       "      <td>1</td>\n",
       "    </tr>\n",
       "    <tr>\n",
       "      <th>1064</th>\n",
       "      <td>COL26338</td>\n",
       "      <td>2024-03-01</td>\n",
       "      <td>2024</td>\n",
       "      <td>1</td>\n",
       "      <td>Political violence</td>\n",
       "      <td>Violence against civilians</td>\n",
       "      <td>Attack</td>\n",
       "      <td>Unidentified Armed Group (Colombia)</td>\n",
       "      <td></td>\n",
       "      <td>3</td>\n",
       "      <td>Civilians (Colombia)</td>\n",
       "      <td></td>\n",
       "      <td>7</td>\n",
       "      <td>37</td>\n",
       "      <td>Civilian targeting</td>\n",
       "      <td>170</td>\n",
       "      <td>South America</td>\n",
       "      <td>Colombia</td>\n",
       "      <td>Arauca</td>\n",
       "      <td>Tame</td>\n",
       "      <td></td>\n",
       "      <td>Tame</td>\n",
       "      <td>6.4494</td>\n",
       "      <td>-71.7586</td>\n",
       "      <td>1</td>\n",
       "      <td>Monitor - OCHA Colombia</td>\n",
       "      <td>Other</td>\n",
       "      <td>On 1 March 2024, in Tame (Arauca), unidentifie...</td>\n",
       "      <td>1</td>\n",
       "      <td></td>\n",
       "      <td>1713223312</td>\n",
       "      <td>3</td>\n",
       "      <td>1</td>\n",
       "    </tr>\n",
       "  </tbody>\n",
       "</table>\n",
       "<p>386 rows × 33 columns</p>\n",
       "</div>"
      ],
      "text/plain": [
       "     event_id_cnty  event_date  year time_precision       disorder_type  \\\n",
       "187       COL26671  2024-04-30  2024              1  Political violence   \n",
       "188       COL26690  2024-04-30  2024              1  Political violence   \n",
       "189       COL26710  2024-04-30  2024              1  Political violence   \n",
       "196       COL26658  2024-04-30  2024              1  Political violence   \n",
       "197       COL26838  2024-04-30  2024              1  Political violence   \n",
       "...            ...         ...   ...            ...                 ...   \n",
       "1050      COL25868  2024-03-02  2024              1  Political violence   \n",
       "1053      COL26343  2024-03-02  2024              2  Political violence   \n",
       "1061      COL25984  2024-03-01  2024              1  Political violence   \n",
       "1062      COL26060  2024-03-01  2024              2  Political violence   \n",
       "1064      COL26338  2024-03-01  2024              1  Political violence   \n",
       "\n",
       "                      event_type                  sub_event_type  \\\n",
       "187                      Battles                     Armed clash   \n",
       "188   Violence against civilians                          Attack   \n",
       "189                        Riots                    Mob violence   \n",
       "196   Violence against civilians  Abduction/forced disappearance   \n",
       "197   Violence against civilians                          Attack   \n",
       "...                          ...                             ...   \n",
       "1050  Violence against civilians                          Attack   \n",
       "1053  Violence against civilians                          Attack   \n",
       "1061                     Battles                     Armed clash   \n",
       "1062  Violence against civilians                          Attack   \n",
       "1064  Violence against civilians                          Attack   \n",
       "\n",
       "                                   actor1  \\\n",
       "187   Military Forces of Colombia (2022-)   \n",
       "188   Unidentified Armed Group (Colombia)   \n",
       "189                    Rioters (Colombia)   \n",
       "196   Unidentified Armed Group (Colombia)   \n",
       "197   Unidentified Armed Group (Colombia)   \n",
       "...                                   ...   \n",
       "1050  Unidentified Armed Group (Colombia)   \n",
       "1053  Unidentified Armed Group (Colombia)   \n",
       "1061  Unidentified Armed Group (Colombia)   \n",
       "1062  Unidentified Armed Group (Colombia)   \n",
       "1064  Unidentified Armed Group (Colombia)   \n",
       "\n",
       "                                 assoc_actor_1 inter1  \\\n",
       "187                                                 1   \n",
       "188                                                 3   \n",
       "189   Labor Group (Colombia); Women (Colombia)      5   \n",
       "196                                                 3   \n",
       "197                                                 3   \n",
       "...                                        ...    ...   \n",
       "1050                                                3   \n",
       "1053                                                3   \n",
       "1061                                                3   \n",
       "1062                                                3   \n",
       "1064                                                3   \n",
       "\n",
       "                                                 actor2  \\\n",
       "187   FARC Dissident - 57th Front: Revolutionary Arm...   \n",
       "188                                Civilians (Colombia)   \n",
       "189                   Police Forces of Colombia (2022-)   \n",
       "196                                Civilians (Colombia)   \n",
       "197                                Civilians (Colombia)   \n",
       "...                                                 ...   \n",
       "1050                               Civilians (Colombia)   \n",
       "1053                              Civilians (Venezuela)   \n",
       "1061                Unidentified Armed Group (Colombia)   \n",
       "1062                               Civilians (Colombia)   \n",
       "1064                               Civilians (Colombia)   \n",
       "\n",
       "                                          assoc_actor_2 inter2 interaction  \\\n",
       "187                                                          2          12   \n",
       "188                     JAC: Council of Communal Action      7          37   \n",
       "189                                                          1          15   \n",
       "196   Nasa Indigenous Group (Colombia); Labor Group ...      7          37   \n",
       "197                                                          7          37   \n",
       "...                                                 ...    ...         ...   \n",
       "1050                                                         7          37   \n",
       "1053                                                         7          37   \n",
       "1061                                                         3          33   \n",
       "1062                                                         7          37   \n",
       "1064                                                         7          37   \n",
       "\n",
       "      civilian_targeting  iso         region   country              admin1  \\\n",
       "187                       170  South America  Colombia               Cauca   \n",
       "188   Civilian targeting  170  South America  Colombia              Arauca   \n",
       "189                       170  South America  Colombia           Antioquia   \n",
       "196   Civilian targeting  170  South America  Colombia               Cauca   \n",
       "197   Civilian targeting  170  South America  Colombia            Putumayo   \n",
       "...                  ...  ...            ...       ...                 ...   \n",
       "1050  Civilian targeting  170  South America  Colombia               Cesar   \n",
       "1053  Civilian targeting  170  South America  Colombia              Arauca   \n",
       "1061                      170  South America  Colombia               Cauca   \n",
       "1062  Civilian targeting  170  South America  Colombia  Norte de Santander   \n",
       "1064  Civilian targeting  170  South America  Colombia              Arauca   \n",
       "\n",
       "          admin2 admin3    location latitude longitude geo_precision  \\\n",
       "187      Corinto            Corinto   3.1738  -76.2613             1   \n",
       "188       Arauca             Arauca   7.0774  -70.7464             1   \n",
       "189     Medellin           Medellin   6.2496  -75.5774             1   \n",
       "196      Corinto            Corinto   3.1738  -76.2613             2   \n",
       "197        Orito              Orito   0.6638  -76.8730             1   \n",
       "...          ...    ...         ...      ...       ...           ...   \n",
       "1050  Valledupar         Valledupar  10.4605  -73.2594             1   \n",
       "1053      Arauca         Monserrate   7.0889  -70.7254             1   \n",
       "1061      Balboa             Balboa   2.0405  -77.2159             2   \n",
       "1062      Cucuta             Cucuta   7.8939  -72.5078             1   \n",
       "1064        Tame               Tame   6.4494  -71.7586             1   \n",
       "\n",
       "                                           source       source_scale  \\\n",
       "187                       Monitor - OCHA Colombia              Other   \n",
       "188                INDEPAZ; La Voz del Rio Arauca  Other-Subnational   \n",
       "189                                 El Colombiano        Subnational   \n",
       "196        Monitor - OCHA Colombia; Sucesos Cauca  Other-Subnational   \n",
       "197                       Monitor - OCHA Colombia              Other   \n",
       "...                                           ...                ...   \n",
       "1050  El Heraldo (Colombia); El Tiempo (Colombia)           National   \n",
       "1053                      Monitor - OCHA Colombia              Other   \n",
       "1061                      Monitor - OCHA Colombia              Other   \n",
       "1062                      Monitor - OCHA Colombia              Other   \n",
       "1064                      Monitor - OCHA Colombia              Other   \n",
       "\n",
       "                                                  notes fatalities  \\\n",
       "187   On 30 April 2024, in Corinto (Cauca), military...          0   \n",
       "188   On 30 April 2024, in Arauca (Arauca), an unide...          1   \n",
       "189   On 30 April 2024, in Medellin - Southwest (Ant...          0   \n",
       "196   On 30 April 2024, in the Corinto municipality ...          0   \n",
       "197   On 30 April 2024, in Orito (Putumayo), unident...          1   \n",
       "...                                                 ...        ...   \n",
       "1050  On 2 March 2024, in Valledupar (Cesar), uniden...          1   \n",
       "1053  Around 2 March 2024 (as reported), in Monserra...          1   \n",
       "1061  On 1 March 2024, in the rural area of Balboa m...          0   \n",
       "1062  Around 1 March 2024 (as reported), in Cucuta -...          0   \n",
       "1064  On 1 March 2024, in Tame (Arauca), unidentifie...          1   \n",
       "\n",
       "                      tags   timestamp  month  events  \n",
       "187                         1715049319      4       1  \n",
       "188                         1715049320      4       1  \n",
       "189   crowd size=no report  1715049320      4       1  \n",
       "196                         1715635212      4       1  \n",
       "197                         1715641779      4       1  \n",
       "...                    ...         ...    ...     ...  \n",
       "1050                        1710202778      3       1  \n",
       "1053                        1715049319      3       1  \n",
       "1061                        1710803228      3       1  \n",
       "1062                        1711409511      3       1  \n",
       "1064                        1713223312      3       1  \n",
       "\n",
       "[386 rows x 33 columns]"
      ]
     },
     "execution_count": 140,
     "metadata": {},
     "output_type": "execute_result"
    }
   ],
   "source": [
    "pv_col = df[df['disorder_type'].isin(['Political violence'])]\n",
    "pv_col['month'] = pd.DatetimeIndex(pv_col['event_date']).month\n",
    "pv_col = pv_col[pv_col['month'] < mes_actual]\n",
    "pv_col['events'] = 1\n",
    "pd.set_option('display.max_columns', None)\n",
    "\n",
    "pv_col = pv_col[pv_col['month'].isin([dos_meses, mes_anterior])]\n",
    "pv_col"
   ]
  },
  {
   "cell_type": "code",
   "execution_count": 141,
   "id": "e9d984e6-3f55-4f66-85cb-6f6506cab4a3",
   "metadata": {
    "tags": []
   },
   "outputs": [
    {
     "name": "stderr",
     "output_type": "stream",
     "text": [
      "/var/folders/r6/5x15py7x16s1k88rwqp8v10w0000gn/T/ipykernel_10511/2020459130.py:4: SettingWithCopyWarning:\n",
      "\n",
      "\n",
      "A value is trying to be set on a copy of a slice from a DataFrame.\n",
      "Try using .loc[row_indexer,col_indexer] = value instead\n",
      "\n",
      "See the caveats in the documentation: https://pandas.pydata.org/pandas-docs/stable/user_guide/indexing.html#returning-a-view-versus-a-copy\n",
      "\n",
      "/var/folders/r6/5x15py7x16s1k88rwqp8v10w0000gn/T/ipykernel_10511/2020459130.py:5: SettingWithCopyWarning:\n",
      "\n",
      "\n",
      "A value is trying to be set on a copy of a slice from a DataFrame.\n",
      "Try using .loc[row_indexer,col_indexer] = value instead\n",
      "\n",
      "See the caveats in the documentation: https://pandas.pydata.org/pandas-docs/stable/user_guide/indexing.html#returning-a-view-versus-a-copy\n",
      "\n"
     ]
    },
    {
     "data": {
      "text/html": [
       "<div>\n",
       "<style scoped>\n",
       "    .dataframe tbody tr th:only-of-type {\n",
       "        vertical-align: middle;\n",
       "    }\n",
       "\n",
       "    .dataframe tbody tr th {\n",
       "        vertical-align: top;\n",
       "    }\n",
       "\n",
       "    .dataframe thead th {\n",
       "        text-align: right;\n",
       "    }\n",
       "</style>\n",
       "<table border=\"1\" class=\"dataframe\">\n",
       "  <thead>\n",
       "    <tr style=\"text-align: right;\">\n",
       "      <th></th>\n",
       "      <th>month</th>\n",
       "      <th>year</th>\n",
       "      <th>event_type</th>\n",
       "      <th>events</th>\n",
       "    </tr>\n",
       "  </thead>\n",
       "  <tbody>\n",
       "    <tr>\n",
       "      <th>0</th>\n",
       "      <td>3</td>\n",
       "      <td>2024</td>\n",
       "      <td>Battles</td>\n",
       "      <td>51</td>\n",
       "    </tr>\n",
       "    <tr>\n",
       "      <th>1</th>\n",
       "      <td>3</td>\n",
       "      <td>2024</td>\n",
       "      <td>Violence against civilians</td>\n",
       "      <td>116</td>\n",
       "    </tr>\n",
       "    <tr>\n",
       "      <th>2</th>\n",
       "      <td>4</td>\n",
       "      <td>2024</td>\n",
       "      <td>Battles</td>\n",
       "      <td>59</td>\n",
       "    </tr>\n",
       "    <tr>\n",
       "      <th>3</th>\n",
       "      <td>4</td>\n",
       "      <td>2024</td>\n",
       "      <td>Violence against civilians</td>\n",
       "      <td>89</td>\n",
       "    </tr>\n",
       "  </tbody>\n",
       "</table>\n",
       "</div>"
      ],
      "text/plain": [
       "   month  year                  event_type  events\n",
       "0      3  2024                     Battles      51\n",
       "1      3  2024  Violence against civilians     116\n",
       "2      4  2024                     Battles      59\n",
       "3      4  2024  Violence against civilians      89"
      ]
     },
     "execution_count": 141,
     "metadata": {},
     "output_type": "execute_result"
    }
   ],
   "source": [
    "events = [\"Battles\", \"Remote violence\", \"Strategic developments\", \"Violence against civilians\"]\n",
    "\n",
    "col_events = pv_col[pv_col['event_type'].isin(events)]\n",
    "col_events['month'] = pd.to_datetime(col_events['event_date']).dt.month\n",
    "col_events['year'] = pd.to_datetime(col_events['event_date']).dt.year\n",
    "\n",
    "col_events = col_events.groupby(['month', 'year', 'event_type'])['events'].sum().reset_index()\n",
    "col_events.head()"
   ]
  },
  {
   "cell_type": "code",
   "execution_count": 168,
   "id": "a224b9a9",
   "metadata": {},
   "outputs": [
    {
     "data": {
      "application/vnd.plotly.v1+json": {
       "config": {
        "plotlyServerURL": "https://plot.ly"
       },
       "data": [
        {
         "mode": "markers+lines+text",
         "text": [
          51,
          59
         ],
         "textposition": "top center",
         "type": "scatter",
         "x": [
          3,
          4
         ],
         "xaxis": "x",
         "y": [
          51,
          59
         ],
         "yaxis": "y"
        },
        {
         "mode": "markers+lines+text",
         "text": [
          116,
          89
         ],
         "textposition": "top center",
         "type": "scatter",
         "x": [
          3,
          4
         ],
         "xaxis": "x2",
         "y": [
          116,
          89
         ],
         "yaxis": "y2"
        }
       ],
       "layout": {
        "annotations": [
         {
          "font": {
           "size": 16
          },
          "showarrow": false,
          "text": "Battles",
          "x": 0.225,
          "xanchor": "center",
          "xref": "paper",
          "y": 1,
          "yanchor": "bottom",
          "yref": "paper"
         },
         {
          "font": {
           "size": 16
          },
          "showarrow": false,
          "text": "Violence against civilians",
          "x": 0.775,
          "xanchor": "center",
          "xref": "paper",
          "y": 1,
          "yanchor": "bottom",
          "yref": "paper"
         }
        ],
        "height": 300,
        "showlegend": false,
        "template": {
         "data": {
          "bar": [
           {
            "error_x": {
             "color": "#2a3f5f"
            },
            "error_y": {
             "color": "#2a3f5f"
            },
            "marker": {
             "line": {
              "color": "#E5ECF6",
              "width": 0.5
             },
             "pattern": {
              "fillmode": "overlay",
              "size": 10,
              "solidity": 0.2
             }
            },
            "type": "bar"
           }
          ],
          "barpolar": [
           {
            "marker": {
             "line": {
              "color": "#E5ECF6",
              "width": 0.5
             },
             "pattern": {
              "fillmode": "overlay",
              "size": 10,
              "solidity": 0.2
             }
            },
            "type": "barpolar"
           }
          ],
          "carpet": [
           {
            "aaxis": {
             "endlinecolor": "#2a3f5f",
             "gridcolor": "white",
             "linecolor": "white",
             "minorgridcolor": "white",
             "startlinecolor": "#2a3f5f"
            },
            "baxis": {
             "endlinecolor": "#2a3f5f",
             "gridcolor": "white",
             "linecolor": "white",
             "minorgridcolor": "white",
             "startlinecolor": "#2a3f5f"
            },
            "type": "carpet"
           }
          ],
          "choropleth": [
           {
            "colorbar": {
             "outlinewidth": 0,
             "ticks": ""
            },
            "type": "choropleth"
           }
          ],
          "contour": [
           {
            "colorbar": {
             "outlinewidth": 0,
             "ticks": ""
            },
            "colorscale": [
             [
              0,
              "#0d0887"
             ],
             [
              0.1111111111111111,
              "#46039f"
             ],
             [
              0.2222222222222222,
              "#7201a8"
             ],
             [
              0.3333333333333333,
              "#9c179e"
             ],
             [
              0.4444444444444444,
              "#bd3786"
             ],
             [
              0.5555555555555556,
              "#d8576b"
             ],
             [
              0.6666666666666666,
              "#ed7953"
             ],
             [
              0.7777777777777778,
              "#fb9f3a"
             ],
             [
              0.8888888888888888,
              "#fdca26"
             ],
             [
              1,
              "#f0f921"
             ]
            ],
            "type": "contour"
           }
          ],
          "contourcarpet": [
           {
            "colorbar": {
             "outlinewidth": 0,
             "ticks": ""
            },
            "type": "contourcarpet"
           }
          ],
          "heatmap": [
           {
            "colorbar": {
             "outlinewidth": 0,
             "ticks": ""
            },
            "colorscale": [
             [
              0,
              "#0d0887"
             ],
             [
              0.1111111111111111,
              "#46039f"
             ],
             [
              0.2222222222222222,
              "#7201a8"
             ],
             [
              0.3333333333333333,
              "#9c179e"
             ],
             [
              0.4444444444444444,
              "#bd3786"
             ],
             [
              0.5555555555555556,
              "#d8576b"
             ],
             [
              0.6666666666666666,
              "#ed7953"
             ],
             [
              0.7777777777777778,
              "#fb9f3a"
             ],
             [
              0.8888888888888888,
              "#fdca26"
             ],
             [
              1,
              "#f0f921"
             ]
            ],
            "type": "heatmap"
           }
          ],
          "heatmapgl": [
           {
            "colorbar": {
             "outlinewidth": 0,
             "ticks": ""
            },
            "colorscale": [
             [
              0,
              "#0d0887"
             ],
             [
              0.1111111111111111,
              "#46039f"
             ],
             [
              0.2222222222222222,
              "#7201a8"
             ],
             [
              0.3333333333333333,
              "#9c179e"
             ],
             [
              0.4444444444444444,
              "#bd3786"
             ],
             [
              0.5555555555555556,
              "#d8576b"
             ],
             [
              0.6666666666666666,
              "#ed7953"
             ],
             [
              0.7777777777777778,
              "#fb9f3a"
             ],
             [
              0.8888888888888888,
              "#fdca26"
             ],
             [
              1,
              "#f0f921"
             ]
            ],
            "type": "heatmapgl"
           }
          ],
          "histogram": [
           {
            "marker": {
             "pattern": {
              "fillmode": "overlay",
              "size": 10,
              "solidity": 0.2
             }
            },
            "type": "histogram"
           }
          ],
          "histogram2d": [
           {
            "colorbar": {
             "outlinewidth": 0,
             "ticks": ""
            },
            "colorscale": [
             [
              0,
              "#0d0887"
             ],
             [
              0.1111111111111111,
              "#46039f"
             ],
             [
              0.2222222222222222,
              "#7201a8"
             ],
             [
              0.3333333333333333,
              "#9c179e"
             ],
             [
              0.4444444444444444,
              "#bd3786"
             ],
             [
              0.5555555555555556,
              "#d8576b"
             ],
             [
              0.6666666666666666,
              "#ed7953"
             ],
             [
              0.7777777777777778,
              "#fb9f3a"
             ],
             [
              0.8888888888888888,
              "#fdca26"
             ],
             [
              1,
              "#f0f921"
             ]
            ],
            "type": "histogram2d"
           }
          ],
          "histogram2dcontour": [
           {
            "colorbar": {
             "outlinewidth": 0,
             "ticks": ""
            },
            "colorscale": [
             [
              0,
              "#0d0887"
             ],
             [
              0.1111111111111111,
              "#46039f"
             ],
             [
              0.2222222222222222,
              "#7201a8"
             ],
             [
              0.3333333333333333,
              "#9c179e"
             ],
             [
              0.4444444444444444,
              "#bd3786"
             ],
             [
              0.5555555555555556,
              "#d8576b"
             ],
             [
              0.6666666666666666,
              "#ed7953"
             ],
             [
              0.7777777777777778,
              "#fb9f3a"
             ],
             [
              0.8888888888888888,
              "#fdca26"
             ],
             [
              1,
              "#f0f921"
             ]
            ],
            "type": "histogram2dcontour"
           }
          ],
          "mesh3d": [
           {
            "colorbar": {
             "outlinewidth": 0,
             "ticks": ""
            },
            "type": "mesh3d"
           }
          ],
          "parcoords": [
           {
            "line": {
             "colorbar": {
              "outlinewidth": 0,
              "ticks": ""
             }
            },
            "type": "parcoords"
           }
          ],
          "pie": [
           {
            "automargin": true,
            "type": "pie"
           }
          ],
          "scatter": [
           {
            "fillpattern": {
             "fillmode": "overlay",
             "size": 10,
             "solidity": 0.2
            },
            "type": "scatter"
           }
          ],
          "scatter3d": [
           {
            "line": {
             "colorbar": {
              "outlinewidth": 0,
              "ticks": ""
             }
            },
            "marker": {
             "colorbar": {
              "outlinewidth": 0,
              "ticks": ""
             }
            },
            "type": "scatter3d"
           }
          ],
          "scattercarpet": [
           {
            "marker": {
             "colorbar": {
              "outlinewidth": 0,
              "ticks": ""
             }
            },
            "type": "scattercarpet"
           }
          ],
          "scattergeo": [
           {
            "marker": {
             "colorbar": {
              "outlinewidth": 0,
              "ticks": ""
             }
            },
            "type": "scattergeo"
           }
          ],
          "scattergl": [
           {
            "marker": {
             "colorbar": {
              "outlinewidth": 0,
              "ticks": ""
             }
            },
            "type": "scattergl"
           }
          ],
          "scattermapbox": [
           {
            "marker": {
             "colorbar": {
              "outlinewidth": 0,
              "ticks": ""
             }
            },
            "type": "scattermapbox"
           }
          ],
          "scatterpolar": [
           {
            "marker": {
             "colorbar": {
              "outlinewidth": 0,
              "ticks": ""
             }
            },
            "type": "scatterpolar"
           }
          ],
          "scatterpolargl": [
           {
            "marker": {
             "colorbar": {
              "outlinewidth": 0,
              "ticks": ""
             }
            },
            "type": "scatterpolargl"
           }
          ],
          "scatterternary": [
           {
            "marker": {
             "colorbar": {
              "outlinewidth": 0,
              "ticks": ""
             }
            },
            "type": "scatterternary"
           }
          ],
          "surface": [
           {
            "colorbar": {
             "outlinewidth": 0,
             "ticks": ""
            },
            "colorscale": [
             [
              0,
              "#0d0887"
             ],
             [
              0.1111111111111111,
              "#46039f"
             ],
             [
              0.2222222222222222,
              "#7201a8"
             ],
             [
              0.3333333333333333,
              "#9c179e"
             ],
             [
              0.4444444444444444,
              "#bd3786"
             ],
             [
              0.5555555555555556,
              "#d8576b"
             ],
             [
              0.6666666666666666,
              "#ed7953"
             ],
             [
              0.7777777777777778,
              "#fb9f3a"
             ],
             [
              0.8888888888888888,
              "#fdca26"
             ],
             [
              1,
              "#f0f921"
             ]
            ],
            "type": "surface"
           }
          ],
          "table": [
           {
            "cells": {
             "fill": {
              "color": "#EBF0F8"
             },
             "line": {
              "color": "white"
             }
            },
            "header": {
             "fill": {
              "color": "#C8D4E3"
             },
             "line": {
              "color": "white"
             }
            },
            "type": "table"
           }
          ]
         },
         "layout": {
          "annotationdefaults": {
           "arrowcolor": "#2a3f5f",
           "arrowhead": 0,
           "arrowwidth": 1
          },
          "autotypenumbers": "strict",
          "coloraxis": {
           "colorbar": {
            "outlinewidth": 0,
            "ticks": ""
           }
          },
          "colorscale": {
           "diverging": [
            [
             0,
             "#8e0152"
            ],
            [
             0.1,
             "#c51b7d"
            ],
            [
             0.2,
             "#de77ae"
            ],
            [
             0.3,
             "#f1b6da"
            ],
            [
             0.4,
             "#fde0ef"
            ],
            [
             0.5,
             "#f7f7f7"
            ],
            [
             0.6,
             "#e6f5d0"
            ],
            [
             0.7,
             "#b8e186"
            ],
            [
             0.8,
             "#7fbc41"
            ],
            [
             0.9,
             "#4d9221"
            ],
            [
             1,
             "#276419"
            ]
           ],
           "sequential": [
            [
             0,
             "#0d0887"
            ],
            [
             0.1111111111111111,
             "#46039f"
            ],
            [
             0.2222222222222222,
             "#7201a8"
            ],
            [
             0.3333333333333333,
             "#9c179e"
            ],
            [
             0.4444444444444444,
             "#bd3786"
            ],
            [
             0.5555555555555556,
             "#d8576b"
            ],
            [
             0.6666666666666666,
             "#ed7953"
            ],
            [
             0.7777777777777778,
             "#fb9f3a"
            ],
            [
             0.8888888888888888,
             "#fdca26"
            ],
            [
             1,
             "#f0f921"
            ]
           ],
           "sequentialminus": [
            [
             0,
             "#0d0887"
            ],
            [
             0.1111111111111111,
             "#46039f"
            ],
            [
             0.2222222222222222,
             "#7201a8"
            ],
            [
             0.3333333333333333,
             "#9c179e"
            ],
            [
             0.4444444444444444,
             "#bd3786"
            ],
            [
             0.5555555555555556,
             "#d8576b"
            ],
            [
             0.6666666666666666,
             "#ed7953"
            ],
            [
             0.7777777777777778,
             "#fb9f3a"
            ],
            [
             0.8888888888888888,
             "#fdca26"
            ],
            [
             1,
             "#f0f921"
            ]
           ]
          },
          "colorway": [
           "#636efa",
           "#EF553B",
           "#00cc96",
           "#ab63fa",
           "#FFA15A",
           "#19d3f3",
           "#FF6692",
           "#B6E880",
           "#FF97FF",
           "#FECB52"
          ],
          "font": {
           "color": "#2a3f5f"
          },
          "geo": {
           "bgcolor": "white",
           "lakecolor": "white",
           "landcolor": "#E5ECF6",
           "showlakes": true,
           "showland": true,
           "subunitcolor": "white"
          },
          "hoverlabel": {
           "align": "left"
          },
          "hovermode": "closest",
          "mapbox": {
           "style": "light"
          },
          "paper_bgcolor": "white",
          "plot_bgcolor": "#E5ECF6",
          "polar": {
           "angularaxis": {
            "gridcolor": "white",
            "linecolor": "white",
            "ticks": ""
           },
           "bgcolor": "#E5ECF6",
           "radialaxis": {
            "gridcolor": "white",
            "linecolor": "white",
            "ticks": ""
           }
          },
          "scene": {
           "xaxis": {
            "backgroundcolor": "#E5ECF6",
            "gridcolor": "white",
            "gridwidth": 2,
            "linecolor": "white",
            "showbackground": true,
            "ticks": "",
            "zerolinecolor": "white"
           },
           "yaxis": {
            "backgroundcolor": "#E5ECF6",
            "gridcolor": "white",
            "gridwidth": 2,
            "linecolor": "white",
            "showbackground": true,
            "ticks": "",
            "zerolinecolor": "white"
           },
           "zaxis": {
            "backgroundcolor": "#E5ECF6",
            "gridcolor": "white",
            "gridwidth": 2,
            "linecolor": "white",
            "showbackground": true,
            "ticks": "",
            "zerolinecolor": "white"
           }
          },
          "shapedefaults": {
           "line": {
            "color": "#2a3f5f"
           }
          },
          "ternary": {
           "aaxis": {
            "gridcolor": "white",
            "linecolor": "white",
            "ticks": ""
           },
           "baxis": {
            "gridcolor": "white",
            "linecolor": "white",
            "ticks": ""
           },
           "bgcolor": "#E5ECF6",
           "caxis": {
            "gridcolor": "white",
            "linecolor": "white",
            "ticks": ""
           }
          },
          "title": {
           "x": 0.05
          },
          "xaxis": {
           "automargin": true,
           "gridcolor": "white",
           "linecolor": "white",
           "ticks": "",
           "title": {
            "standoff": 15
           },
           "zerolinecolor": "white",
           "zerolinewidth": 2
          },
          "yaxis": {
           "automargin": true,
           "gridcolor": "white",
           "linecolor": "white",
           "ticks": "",
           "title": {
            "standoff": 15
           },
           "zerolinecolor": "white",
           "zerolinewidth": 2
          }
         }
        },
        "title": {
         "text": "Primary Indicators of Violence in Colombia (By Event Type)"
        },
        "width": 800,
        "xaxis": {
         "anchor": "y",
         "domain": [
          0,
          0.45
         ],
         "dtick": 1
        },
        "xaxis2": {
         "anchor": "y2",
         "domain": [
          0.55,
          1
         ],
         "dtick": 1
        },
        "yaxis": {
         "anchor": "x",
         "domain": [
          0,
          1
         ],
         "rangemode": "tozero"
        },
        "yaxis2": {
         "anchor": "x2",
         "domain": [
          0,
          1
         ],
         "rangemode": "tozero"
        }
       }
      }
     },
     "metadata": {},
     "output_type": "display_data"
    }
   ],
   "source": [
    "event_types = col_events['event_type'].unique()\n",
    "\n",
    "n_cols = 2\n",
    "n_rows = math.ceil(len(event_types) / n_cols)\n",
    "\n",
    "fig = make_subplots(rows=n_rows, cols=n_cols, subplot_titles=event_types)\n",
    "\n",
    "for i, tipo in enumerate(event_types):\n",
    "    row = (i // n_cols) + 1  \n",
    "    col = (i % n_cols) + 1  \n",
    "    col_events_filt = col_events[col_events['event_type'] == tipo]\n",
    "    fig.add_trace(\n",
    "        go.Scatter(\n",
    "            x=col_events_filt['month'], \n",
    "            y=col_events_filt['events'], \n",
    "            mode='markers+lines+text',\n",
    "            text=col_events_filt['events'],\n",
    "            textposition=\"top center\",\n",
    "        ),\n",
    "        row=row, col=col\n",
    "    )\n",
    "\n",
    "for j in range(1, n_rows+1):\n",
    "    for i in range(1, n_cols+1):\n",
    "        fig.update_xaxes(row=j, col=i, dtick=1)\n",
    "\n",
    "for j in range(1, n_rows+1):\n",
    "    for i in range(1, n_cols+1):\n",
    "        fig.update_yaxes(row=j, col=i, rangemode='tozero')\n",
    "\n",
    "fig.update_layout(\n",
    "    height=300 * n_rows,\n",
    "    width=800, \n",
    "    title_text=\"Primary Indicators of Violence in Colombia (By Event Type)\",\n",
    "    showlegend=False\n",
    ")\n",
    "fig.show()"
   ]
  },
  {
   "cell_type": "code",
   "execution_count": 143,
   "id": "c2ebe415-e38a-45b9-ad2a-c9c3436d978d",
   "metadata": {},
   "outputs": [
    {
     "name": "stderr",
     "output_type": "stream",
     "text": [
      "/var/folders/r6/5x15py7x16s1k88rwqp8v10w0000gn/T/ipykernel_10511/2975359023.py:4: SettingWithCopyWarning:\n",
      "\n",
      "\n",
      "A value is trying to be set on a copy of a slice from a DataFrame.\n",
      "Try using .loc[row_indexer,col_indexer] = value instead\n",
      "\n",
      "See the caveats in the documentation: https://pandas.pydata.org/pandas-docs/stable/user_guide/indexing.html#returning-a-view-versus-a-copy\n",
      "\n",
      "/var/folders/r6/5x15py7x16s1k88rwqp8v10w0000gn/T/ipykernel_10511/2975359023.py:5: SettingWithCopyWarning:\n",
      "\n",
      "\n",
      "A value is trying to be set on a copy of a slice from a DataFrame.\n",
      "Try using .loc[row_indexer,col_indexer] = value instead\n",
      "\n",
      "See the caveats in the documentation: https://pandas.pydata.org/pandas-docs/stable/user_guide/indexing.html#returning-a-view-versus-a-copy\n",
      "\n"
     ]
    },
    {
     "data": {
      "text/html": [
       "<div>\n",
       "<style scoped>\n",
       "    .dataframe tbody tr th:only-of-type {\n",
       "        vertical-align: middle;\n",
       "    }\n",
       "\n",
       "    .dataframe tbody tr th {\n",
       "        vertical-align: top;\n",
       "    }\n",
       "\n",
       "    .dataframe thead th {\n",
       "        text-align: right;\n",
       "    }\n",
       "</style>\n",
       "<table border=\"1\" class=\"dataframe\">\n",
       "  <thead>\n",
       "    <tr style=\"text-align: right;\">\n",
       "      <th></th>\n",
       "      <th>month</th>\n",
       "      <th>year</th>\n",
       "      <th>sub_event_type</th>\n",
       "      <th>events</th>\n",
       "    </tr>\n",
       "  </thead>\n",
       "  <tbody>\n",
       "    <tr>\n",
       "      <th>0</th>\n",
       "      <td>3</td>\n",
       "      <td>2024</td>\n",
       "      <td>Abduction/forced disappearance</td>\n",
       "      <td>22</td>\n",
       "    </tr>\n",
       "    <tr>\n",
       "      <th>1</th>\n",
       "      <td>3</td>\n",
       "      <td>2024</td>\n",
       "      <td>Armed clash</td>\n",
       "      <td>51</td>\n",
       "    </tr>\n",
       "    <tr>\n",
       "      <th>2</th>\n",
       "      <td>3</td>\n",
       "      <td>2024</td>\n",
       "      <td>Attack</td>\n",
       "      <td>94</td>\n",
       "    </tr>\n",
       "    <tr>\n",
       "      <th>3</th>\n",
       "      <td>3</td>\n",
       "      <td>2024</td>\n",
       "      <td>Grenade</td>\n",
       "      <td>1</td>\n",
       "    </tr>\n",
       "    <tr>\n",
       "      <th>4</th>\n",
       "      <td>3</td>\n",
       "      <td>2024</td>\n",
       "      <td>Remote explosive/landmine/IED</td>\n",
       "      <td>11</td>\n",
       "    </tr>\n",
       "  </tbody>\n",
       "</table>\n",
       "</div>"
      ],
      "text/plain": [
       "   month  year                  sub_event_type  events\n",
       "0      3  2024  Abduction/forced disappearance      22\n",
       "1      3  2024                     Armed clash      51\n",
       "2      3  2024                          Attack      94\n",
       "3      3  2024                         Grenade       1\n",
       "4      3  2024   Remote explosive/landmine/IED      11"
      ]
     },
     "execution_count": 143,
     "metadata": {},
     "output_type": "execute_result"
    }
   ],
   "source": [
    "subevents = [\"Abduction/forced disappearance\", \"Armed clash\", \"Arrests\", \"Attack\", \"Change to group/activity\", \"Disrupted weapons use\", \"Grenade\", \"Remote explosive/landmine/IED\", \"Sexual violence\"]\n",
    "\n",
    "col_subevents = pv_col[pv_col['sub_event_type'].isin(subevents)]\n",
    "col_subevents['month'] = pd.to_datetime(col_subevents['event_date']).dt.month\n",
    "col_subevents['year'] = pd.to_datetime(col_subevents['event_date']).dt.year\n",
    "\n",
    "col_subevents = col_subevents.groupby(['month', 'year', 'sub_event_type'])['events'].sum().reset_index()\n",
    "col_subevents.head()"
   ]
  },
  {
   "cell_type": "code",
   "execution_count": 169,
   "id": "29a60ef1",
   "metadata": {},
   "outputs": [
    {
     "data": {
      "application/vnd.plotly.v1+json": {
       "config": {
        "plotlyServerURL": "https://plot.ly"
       },
       "data": [
        {
         "mode": "markers+lines+text",
         "text": [
          22,
          25
         ],
         "textposition": "top center",
         "type": "scatter",
         "x": [
          3,
          4
         ],
         "xaxis": "x",
         "y": [
          22,
          25
         ],
         "yaxis": "y"
        },
        {
         "mode": "markers+lines+text",
         "text": [
          51,
          59
         ],
         "textposition": "top center",
         "type": "scatter",
         "x": [
          3,
          4
         ],
         "xaxis": "x2",
         "y": [
          51,
          59
         ],
         "yaxis": "y2"
        },
        {
         "mode": "markers+lines+text",
         "text": [
          94,
          64
         ],
         "textposition": "top center",
         "type": "scatter",
         "x": [
          3,
          4
         ],
         "xaxis": "x3",
         "y": [
          94,
          64
         ],
         "yaxis": "y3"
        },
        {
         "mode": "markers+lines+text",
         "text": [
          1,
          5
         ],
         "textposition": "top center",
         "type": "scatter",
         "x": [
          3,
          4
         ],
         "xaxis": "x4",
         "y": [
          1,
          5
         ],
         "yaxis": "y4"
        },
        {
         "mode": "markers+lines+text",
         "text": [
          11,
          12
         ],
         "textposition": "top center",
         "type": "scatter",
         "x": [
          3,
          4
         ],
         "xaxis": "x5",
         "y": [
          11,
          12
         ],
         "yaxis": "y5"
        }
       ],
       "layout": {
        "annotations": [
         {
          "font": {
           "size": 16
          },
          "showarrow": false,
          "text": "Abduction/forced disappearance",
          "x": 0.225,
          "xanchor": "center",
          "xref": "paper",
          "y": 1,
          "yanchor": "bottom",
          "yref": "paper"
         },
         {
          "font": {
           "size": 16
          },
          "showarrow": false,
          "text": "Armed clash",
          "x": 0.775,
          "xanchor": "center",
          "xref": "paper",
          "y": 1,
          "yanchor": "bottom",
          "yref": "paper"
         },
         {
          "font": {
           "size": 16
          },
          "showarrow": false,
          "text": "Attack",
          "x": 0.225,
          "xanchor": "center",
          "xref": "paper",
          "y": 0.6111111111111112,
          "yanchor": "bottom",
          "yref": "paper"
         },
         {
          "font": {
           "size": 16
          },
          "showarrow": false,
          "text": "Grenade",
          "x": 0.775,
          "xanchor": "center",
          "xref": "paper",
          "y": 0.6111111111111112,
          "yanchor": "bottom",
          "yref": "paper"
         },
         {
          "font": {
           "size": 16
          },
          "showarrow": false,
          "text": "Remote explosive/landmine/IED",
          "x": 0.225,
          "xanchor": "center",
          "xref": "paper",
          "y": 0.22222222222222224,
          "yanchor": "bottom",
          "yref": "paper"
         }
        ],
        "height": 1200,
        "showlegend": false,
        "template": {
         "data": {
          "bar": [
           {
            "error_x": {
             "color": "#2a3f5f"
            },
            "error_y": {
             "color": "#2a3f5f"
            },
            "marker": {
             "line": {
              "color": "#E5ECF6",
              "width": 0.5
             },
             "pattern": {
              "fillmode": "overlay",
              "size": 10,
              "solidity": 0.2
             }
            },
            "type": "bar"
           }
          ],
          "barpolar": [
           {
            "marker": {
             "line": {
              "color": "#E5ECF6",
              "width": 0.5
             },
             "pattern": {
              "fillmode": "overlay",
              "size": 10,
              "solidity": 0.2
             }
            },
            "type": "barpolar"
           }
          ],
          "carpet": [
           {
            "aaxis": {
             "endlinecolor": "#2a3f5f",
             "gridcolor": "white",
             "linecolor": "white",
             "minorgridcolor": "white",
             "startlinecolor": "#2a3f5f"
            },
            "baxis": {
             "endlinecolor": "#2a3f5f",
             "gridcolor": "white",
             "linecolor": "white",
             "minorgridcolor": "white",
             "startlinecolor": "#2a3f5f"
            },
            "type": "carpet"
           }
          ],
          "choropleth": [
           {
            "colorbar": {
             "outlinewidth": 0,
             "ticks": ""
            },
            "type": "choropleth"
           }
          ],
          "contour": [
           {
            "colorbar": {
             "outlinewidth": 0,
             "ticks": ""
            },
            "colorscale": [
             [
              0,
              "#0d0887"
             ],
             [
              0.1111111111111111,
              "#46039f"
             ],
             [
              0.2222222222222222,
              "#7201a8"
             ],
             [
              0.3333333333333333,
              "#9c179e"
             ],
             [
              0.4444444444444444,
              "#bd3786"
             ],
             [
              0.5555555555555556,
              "#d8576b"
             ],
             [
              0.6666666666666666,
              "#ed7953"
             ],
             [
              0.7777777777777778,
              "#fb9f3a"
             ],
             [
              0.8888888888888888,
              "#fdca26"
             ],
             [
              1,
              "#f0f921"
             ]
            ],
            "type": "contour"
           }
          ],
          "contourcarpet": [
           {
            "colorbar": {
             "outlinewidth": 0,
             "ticks": ""
            },
            "type": "contourcarpet"
           }
          ],
          "heatmap": [
           {
            "colorbar": {
             "outlinewidth": 0,
             "ticks": ""
            },
            "colorscale": [
             [
              0,
              "#0d0887"
             ],
             [
              0.1111111111111111,
              "#46039f"
             ],
             [
              0.2222222222222222,
              "#7201a8"
             ],
             [
              0.3333333333333333,
              "#9c179e"
             ],
             [
              0.4444444444444444,
              "#bd3786"
             ],
             [
              0.5555555555555556,
              "#d8576b"
             ],
             [
              0.6666666666666666,
              "#ed7953"
             ],
             [
              0.7777777777777778,
              "#fb9f3a"
             ],
             [
              0.8888888888888888,
              "#fdca26"
             ],
             [
              1,
              "#f0f921"
             ]
            ],
            "type": "heatmap"
           }
          ],
          "heatmapgl": [
           {
            "colorbar": {
             "outlinewidth": 0,
             "ticks": ""
            },
            "colorscale": [
             [
              0,
              "#0d0887"
             ],
             [
              0.1111111111111111,
              "#46039f"
             ],
             [
              0.2222222222222222,
              "#7201a8"
             ],
             [
              0.3333333333333333,
              "#9c179e"
             ],
             [
              0.4444444444444444,
              "#bd3786"
             ],
             [
              0.5555555555555556,
              "#d8576b"
             ],
             [
              0.6666666666666666,
              "#ed7953"
             ],
             [
              0.7777777777777778,
              "#fb9f3a"
             ],
             [
              0.8888888888888888,
              "#fdca26"
             ],
             [
              1,
              "#f0f921"
             ]
            ],
            "type": "heatmapgl"
           }
          ],
          "histogram": [
           {
            "marker": {
             "pattern": {
              "fillmode": "overlay",
              "size": 10,
              "solidity": 0.2
             }
            },
            "type": "histogram"
           }
          ],
          "histogram2d": [
           {
            "colorbar": {
             "outlinewidth": 0,
             "ticks": ""
            },
            "colorscale": [
             [
              0,
              "#0d0887"
             ],
             [
              0.1111111111111111,
              "#46039f"
             ],
             [
              0.2222222222222222,
              "#7201a8"
             ],
             [
              0.3333333333333333,
              "#9c179e"
             ],
             [
              0.4444444444444444,
              "#bd3786"
             ],
             [
              0.5555555555555556,
              "#d8576b"
             ],
             [
              0.6666666666666666,
              "#ed7953"
             ],
             [
              0.7777777777777778,
              "#fb9f3a"
             ],
             [
              0.8888888888888888,
              "#fdca26"
             ],
             [
              1,
              "#f0f921"
             ]
            ],
            "type": "histogram2d"
           }
          ],
          "histogram2dcontour": [
           {
            "colorbar": {
             "outlinewidth": 0,
             "ticks": ""
            },
            "colorscale": [
             [
              0,
              "#0d0887"
             ],
             [
              0.1111111111111111,
              "#46039f"
             ],
             [
              0.2222222222222222,
              "#7201a8"
             ],
             [
              0.3333333333333333,
              "#9c179e"
             ],
             [
              0.4444444444444444,
              "#bd3786"
             ],
             [
              0.5555555555555556,
              "#d8576b"
             ],
             [
              0.6666666666666666,
              "#ed7953"
             ],
             [
              0.7777777777777778,
              "#fb9f3a"
             ],
             [
              0.8888888888888888,
              "#fdca26"
             ],
             [
              1,
              "#f0f921"
             ]
            ],
            "type": "histogram2dcontour"
           }
          ],
          "mesh3d": [
           {
            "colorbar": {
             "outlinewidth": 0,
             "ticks": ""
            },
            "type": "mesh3d"
           }
          ],
          "parcoords": [
           {
            "line": {
             "colorbar": {
              "outlinewidth": 0,
              "ticks": ""
             }
            },
            "type": "parcoords"
           }
          ],
          "pie": [
           {
            "automargin": true,
            "type": "pie"
           }
          ],
          "scatter": [
           {
            "fillpattern": {
             "fillmode": "overlay",
             "size": 10,
             "solidity": 0.2
            },
            "type": "scatter"
           }
          ],
          "scatter3d": [
           {
            "line": {
             "colorbar": {
              "outlinewidth": 0,
              "ticks": ""
             }
            },
            "marker": {
             "colorbar": {
              "outlinewidth": 0,
              "ticks": ""
             }
            },
            "type": "scatter3d"
           }
          ],
          "scattercarpet": [
           {
            "marker": {
             "colorbar": {
              "outlinewidth": 0,
              "ticks": ""
             }
            },
            "type": "scattercarpet"
           }
          ],
          "scattergeo": [
           {
            "marker": {
             "colorbar": {
              "outlinewidth": 0,
              "ticks": ""
             }
            },
            "type": "scattergeo"
           }
          ],
          "scattergl": [
           {
            "marker": {
             "colorbar": {
              "outlinewidth": 0,
              "ticks": ""
             }
            },
            "type": "scattergl"
           }
          ],
          "scattermapbox": [
           {
            "marker": {
             "colorbar": {
              "outlinewidth": 0,
              "ticks": ""
             }
            },
            "type": "scattermapbox"
           }
          ],
          "scatterpolar": [
           {
            "marker": {
             "colorbar": {
              "outlinewidth": 0,
              "ticks": ""
             }
            },
            "type": "scatterpolar"
           }
          ],
          "scatterpolargl": [
           {
            "marker": {
             "colorbar": {
              "outlinewidth": 0,
              "ticks": ""
             }
            },
            "type": "scatterpolargl"
           }
          ],
          "scatterternary": [
           {
            "marker": {
             "colorbar": {
              "outlinewidth": 0,
              "ticks": ""
             }
            },
            "type": "scatterternary"
           }
          ],
          "surface": [
           {
            "colorbar": {
             "outlinewidth": 0,
             "ticks": ""
            },
            "colorscale": [
             [
              0,
              "#0d0887"
             ],
             [
              0.1111111111111111,
              "#46039f"
             ],
             [
              0.2222222222222222,
              "#7201a8"
             ],
             [
              0.3333333333333333,
              "#9c179e"
             ],
             [
              0.4444444444444444,
              "#bd3786"
             ],
             [
              0.5555555555555556,
              "#d8576b"
             ],
             [
              0.6666666666666666,
              "#ed7953"
             ],
             [
              0.7777777777777778,
              "#fb9f3a"
             ],
             [
              0.8888888888888888,
              "#fdca26"
             ],
             [
              1,
              "#f0f921"
             ]
            ],
            "type": "surface"
           }
          ],
          "table": [
           {
            "cells": {
             "fill": {
              "color": "#EBF0F8"
             },
             "line": {
              "color": "white"
             }
            },
            "header": {
             "fill": {
              "color": "#C8D4E3"
             },
             "line": {
              "color": "white"
             }
            },
            "type": "table"
           }
          ]
         },
         "layout": {
          "annotationdefaults": {
           "arrowcolor": "#2a3f5f",
           "arrowhead": 0,
           "arrowwidth": 1
          },
          "autotypenumbers": "strict",
          "coloraxis": {
           "colorbar": {
            "outlinewidth": 0,
            "ticks": ""
           }
          },
          "colorscale": {
           "diverging": [
            [
             0,
             "#8e0152"
            ],
            [
             0.1,
             "#c51b7d"
            ],
            [
             0.2,
             "#de77ae"
            ],
            [
             0.3,
             "#f1b6da"
            ],
            [
             0.4,
             "#fde0ef"
            ],
            [
             0.5,
             "#f7f7f7"
            ],
            [
             0.6,
             "#e6f5d0"
            ],
            [
             0.7,
             "#b8e186"
            ],
            [
             0.8,
             "#7fbc41"
            ],
            [
             0.9,
             "#4d9221"
            ],
            [
             1,
             "#276419"
            ]
           ],
           "sequential": [
            [
             0,
             "#0d0887"
            ],
            [
             0.1111111111111111,
             "#46039f"
            ],
            [
             0.2222222222222222,
             "#7201a8"
            ],
            [
             0.3333333333333333,
             "#9c179e"
            ],
            [
             0.4444444444444444,
             "#bd3786"
            ],
            [
             0.5555555555555556,
             "#d8576b"
            ],
            [
             0.6666666666666666,
             "#ed7953"
            ],
            [
             0.7777777777777778,
             "#fb9f3a"
            ],
            [
             0.8888888888888888,
             "#fdca26"
            ],
            [
             1,
             "#f0f921"
            ]
           ],
           "sequentialminus": [
            [
             0,
             "#0d0887"
            ],
            [
             0.1111111111111111,
             "#46039f"
            ],
            [
             0.2222222222222222,
             "#7201a8"
            ],
            [
             0.3333333333333333,
             "#9c179e"
            ],
            [
             0.4444444444444444,
             "#bd3786"
            ],
            [
             0.5555555555555556,
             "#d8576b"
            ],
            [
             0.6666666666666666,
             "#ed7953"
            ],
            [
             0.7777777777777778,
             "#fb9f3a"
            ],
            [
             0.8888888888888888,
             "#fdca26"
            ],
            [
             1,
             "#f0f921"
            ]
           ]
          },
          "colorway": [
           "#636efa",
           "#EF553B",
           "#00cc96",
           "#ab63fa",
           "#FFA15A",
           "#19d3f3",
           "#FF6692",
           "#B6E880",
           "#FF97FF",
           "#FECB52"
          ],
          "font": {
           "color": "#2a3f5f"
          },
          "geo": {
           "bgcolor": "white",
           "lakecolor": "white",
           "landcolor": "#E5ECF6",
           "showlakes": true,
           "showland": true,
           "subunitcolor": "white"
          },
          "hoverlabel": {
           "align": "left"
          },
          "hovermode": "closest",
          "mapbox": {
           "style": "light"
          },
          "paper_bgcolor": "white",
          "plot_bgcolor": "#E5ECF6",
          "polar": {
           "angularaxis": {
            "gridcolor": "white",
            "linecolor": "white",
            "ticks": ""
           },
           "bgcolor": "#E5ECF6",
           "radialaxis": {
            "gridcolor": "white",
            "linecolor": "white",
            "ticks": ""
           }
          },
          "scene": {
           "xaxis": {
            "backgroundcolor": "#E5ECF6",
            "gridcolor": "white",
            "gridwidth": 2,
            "linecolor": "white",
            "showbackground": true,
            "ticks": "",
            "zerolinecolor": "white"
           },
           "yaxis": {
            "backgroundcolor": "#E5ECF6",
            "gridcolor": "white",
            "gridwidth": 2,
            "linecolor": "white",
            "showbackground": true,
            "ticks": "",
            "zerolinecolor": "white"
           },
           "zaxis": {
            "backgroundcolor": "#E5ECF6",
            "gridcolor": "white",
            "gridwidth": 2,
            "linecolor": "white",
            "showbackground": true,
            "ticks": "",
            "zerolinecolor": "white"
           }
          },
          "shapedefaults": {
           "line": {
            "color": "#2a3f5f"
           }
          },
          "ternary": {
           "aaxis": {
            "gridcolor": "white",
            "linecolor": "white",
            "ticks": ""
           },
           "baxis": {
            "gridcolor": "white",
            "linecolor": "white",
            "ticks": ""
           },
           "bgcolor": "#E5ECF6",
           "caxis": {
            "gridcolor": "white",
            "linecolor": "white",
            "ticks": ""
           }
          },
          "title": {
           "x": 0.05
          },
          "xaxis": {
           "automargin": true,
           "gridcolor": "white",
           "linecolor": "white",
           "ticks": "",
           "title": {
            "standoff": 15
           },
           "zerolinecolor": "white",
           "zerolinewidth": 2
          },
          "yaxis": {
           "automargin": true,
           "gridcolor": "white",
           "linecolor": "white",
           "ticks": "",
           "title": {
            "standoff": 15
           },
           "zerolinecolor": "white",
           "zerolinewidth": 2
          }
         }
        },
        "title": {
         "text": "Primary Indicators of Violence in Colombia (By Sub-Event Type)"
        },
        "width": 800,
        "xaxis": {
         "anchor": "y",
         "domain": [
          0,
          0.45
         ],
         "dtick": 1
        },
        "xaxis2": {
         "anchor": "y2",
         "domain": [
          0.55,
          1
         ],
         "dtick": 1
        },
        "xaxis3": {
         "anchor": "y3",
         "domain": [
          0,
          0.45
         ],
         "dtick": 1
        },
        "xaxis4": {
         "anchor": "y4",
         "domain": [
          0.55,
          1
         ],
         "dtick": 1
        },
        "xaxis5": {
         "anchor": "y5",
         "domain": [
          0,
          0.45
         ],
         "dtick": 1
        },
        "xaxis6": {
         "anchor": "y6",
         "domain": [
          0.55,
          1
         ],
         "dtick": 1
        },
        "yaxis": {
         "anchor": "x",
         "domain": [
          0.7777777777777778,
          1
         ],
         "rangemode": "tozero"
        },
        "yaxis2": {
         "anchor": "x2",
         "domain": [
          0.7777777777777778,
          1
         ],
         "rangemode": "tozero"
        },
        "yaxis3": {
         "anchor": "x3",
         "domain": [
          0.3888888888888889,
          0.6111111111111112
         ],
         "rangemode": "tozero"
        },
        "yaxis4": {
         "anchor": "x4",
         "domain": [
          0.3888888888888889,
          0.6111111111111112
         ],
         "rangemode": "tozero"
        },
        "yaxis5": {
         "anchor": "x5",
         "domain": [
          0,
          0.22222222222222224
         ],
         "rangemode": "tozero"
        },
        "yaxis6": {
         "anchor": "x6",
         "domain": [
          0,
          0.22222222222222224
         ],
         "rangemode": "tozero"
        }
       }
      }
     },
     "metadata": {},
     "output_type": "display_data"
    }
   ],
   "source": [
    "subevent_types = col_subevents['sub_event_type'].unique()\n",
    "\n",
    "n_cols = 2\n",
    "n_rows = math.ceil(len(subevent_types) / n_cols)\n",
    "\n",
    "fig = make_subplots(rows=n_rows, cols=n_cols, subplot_titles=subevent_types)\n",
    "\n",
    "for i, tipo in enumerate(subevent_types):\n",
    "    row = (i // n_cols) + 1  \n",
    "    col = (i % n_cols) + 1  \n",
    "    col_subevents_filt = col_subevents[col_subevents['sub_event_type'] == tipo]\n",
    "    fig.add_trace(\n",
    "        go.Scatter(\n",
    "            x=col_subevents_filt['month'], \n",
    "            y=col_subevents_filt['events'], \n",
    "            mode='markers+lines+text',\n",
    "            text=col_subevents_filt['events'],\n",
    "            textposition=\"top center\"\n",
    "        ),\n",
    "        row=row, col=col\n",
    "    )\n",
    "\n",
    "for j in range(1, n_rows+1):\n",
    "    for i in range(1, n_cols+1):\n",
    "        fig.update_xaxes(row=j, col=i, dtick=1)\n",
    "\n",
    "for j in range(1, n_rows+1):\n",
    "    for i in range(1, n_cols+1):\n",
    "        fig.update_yaxes(row=j, col=i, rangemode='tozero')\n",
    "\n",
    "fig.update_layout(\n",
    "    height=400 * n_rows,\n",
    "    width=800,\n",
    "    title_text=\"Primary Indicators of Violence in Colombia (By Sub-Event Type)\",\n",
    "    showlegend=False\n",
    ")\n",
    "fig.show()"
   ]
  },
  {
   "cell_type": "code",
   "execution_count": 164,
   "id": "9ebc5639",
   "metadata": {},
   "outputs": [
    {
     "name": "stderr",
     "output_type": "stream",
     "text": [
      "/var/folders/r6/5x15py7x16s1k88rwqp8v10w0000gn/T/ipykernel_10511/1878805601.py:8: SettingWithCopyWarning:\n",
      "\n",
      "\n",
      "A value is trying to be set on a copy of a slice from a DataFrame.\n",
      "Try using .loc[row_indexer,col_indexer] = value instead\n",
      "\n",
      "See the caveats in the documentation: https://pandas.pydata.org/pandas-docs/stable/user_guide/indexing.html#returning-a-view-versus-a-copy\n",
      "\n",
      "/var/folders/r6/5x15py7x16s1k88rwqp8v10w0000gn/T/ipykernel_10511/1878805601.py:9: SettingWithCopyWarning:\n",
      "\n",
      "\n",
      "A value is trying to be set on a copy of a slice from a DataFrame.\n",
      "Try using .loc[row_indexer,col_indexer] = value instead\n",
      "\n",
      "See the caveats in the documentation: https://pandas.pydata.org/pandas-docs/stable/user_guide/indexing.html#returning-a-view-versus-a-copy\n",
      "\n"
     ]
    },
    {
     "data": {
      "text/html": [
       "<div>\n",
       "<style scoped>\n",
       "    .dataframe tbody tr th:only-of-type {\n",
       "        vertical-align: middle;\n",
       "    }\n",
       "\n",
       "    .dataframe tbody tr th {\n",
       "        vertical-align: top;\n",
       "    }\n",
       "\n",
       "    .dataframe thead th {\n",
       "        text-align: right;\n",
       "    }\n",
       "</style>\n",
       "<table border=\"1\" class=\"dataframe\">\n",
       "  <thead>\n",
       "    <tr style=\"text-align: right;\">\n",
       "      <th></th>\n",
       "      <th>month</th>\n",
       "      <th>year</th>\n",
       "      <th>event_type</th>\n",
       "      <th>events</th>\n",
       "    </tr>\n",
       "  </thead>\n",
       "  <tbody>\n",
       "    <tr>\n",
       "      <th>0</th>\n",
       "      <td>3</td>\n",
       "      <td>2024</td>\n",
       "      <td>Battles</td>\n",
       "      <td>25</td>\n",
       "    </tr>\n",
       "    <tr>\n",
       "      <th>1</th>\n",
       "      <td>3</td>\n",
       "      <td>2024</td>\n",
       "      <td>Violence against civilians</td>\n",
       "      <td>24</td>\n",
       "    </tr>\n",
       "    <tr>\n",
       "      <th>2</th>\n",
       "      <td>4</td>\n",
       "      <td>2024</td>\n",
       "      <td>Battles</td>\n",
       "      <td>40</td>\n",
       "    </tr>\n",
       "    <tr>\n",
       "      <th>3</th>\n",
       "      <td>4</td>\n",
       "      <td>2024</td>\n",
       "      <td>Violence against civilians</td>\n",
       "      <td>16</td>\n",
       "    </tr>\n",
       "  </tbody>\n",
       "</table>\n",
       "</div>"
      ],
      "text/plain": [
       "   month  year                  event_type  events\n",
       "0      3  2024                     Battles      25\n",
       "1      3  2024  Violence against civilians      24\n",
       "2      4  2024                     Battles      40\n",
       "3      4  2024  Violence against civilians      16"
      ]
     },
     "execution_count": 164,
     "metadata": {},
     "output_type": "execute_result"
    }
   ],
   "source": [
    "departments = ['Cauca', 'Narino', 'Valle del Cauca']\n",
    "\n",
    "\n",
    "col_departments_event = pv_col[\n",
    "    (pv_col['event_type'].isin(events)) & \n",
    "    (pv_col['admin1'].isin(departments))\n",
    "]\n",
    "col_departments_event['month'] = pd.to_datetime(col_departments_event['event_date']).dt.month\n",
    "col_departments_event['year'] = pd.to_datetime(col_departments_event['event_date']).dt.year\n",
    "\n",
    "col_departments_event = col_departments_event.groupby(['month', 'year', 'event_type'])['events'].sum().reset_index()\n",
    "col_departments_event.head()\n"
   ]
  },
  {
   "cell_type": "code",
   "execution_count": 170,
   "id": "5a616b0c",
   "metadata": {},
   "outputs": [
    {
     "data": {
      "application/vnd.plotly.v1+json": {
       "config": {
        "plotlyServerURL": "https://plot.ly"
       },
       "data": [
        {
         "mode": "markers+lines+text",
         "text": [
          25,
          40
         ],
         "textposition": "top center",
         "type": "scatter",
         "x": [
          3,
          4
         ],
         "xaxis": "x",
         "y": [
          25,
          40
         ],
         "yaxis": "y"
        },
        {
         "mode": "markers+lines+text",
         "text": [
          24,
          16
         ],
         "textposition": "top center",
         "type": "scatter",
         "x": [
          3,
          4
         ],
         "xaxis": "x2",
         "y": [
          24,
          16
         ],
         "yaxis": "y2"
        }
       ],
       "layout": {
        "annotations": [
         {
          "font": {
           "size": 16
          },
          "showarrow": false,
          "text": "Battles",
          "x": 0.225,
          "xanchor": "center",
          "xref": "paper",
          "y": 1,
          "yanchor": "bottom",
          "yref": "paper"
         },
         {
          "font": {
           "size": 16
          },
          "showarrow": false,
          "text": "Violence against civilians",
          "x": 0.775,
          "xanchor": "center",
          "xref": "paper",
          "y": 1,
          "yanchor": "bottom",
          "yref": "paper"
         }
        ],
        "height": 300,
        "showlegend": false,
        "template": {
         "data": {
          "bar": [
           {
            "error_x": {
             "color": "#2a3f5f"
            },
            "error_y": {
             "color": "#2a3f5f"
            },
            "marker": {
             "line": {
              "color": "#E5ECF6",
              "width": 0.5
             },
             "pattern": {
              "fillmode": "overlay",
              "size": 10,
              "solidity": 0.2
             }
            },
            "type": "bar"
           }
          ],
          "barpolar": [
           {
            "marker": {
             "line": {
              "color": "#E5ECF6",
              "width": 0.5
             },
             "pattern": {
              "fillmode": "overlay",
              "size": 10,
              "solidity": 0.2
             }
            },
            "type": "barpolar"
           }
          ],
          "carpet": [
           {
            "aaxis": {
             "endlinecolor": "#2a3f5f",
             "gridcolor": "white",
             "linecolor": "white",
             "minorgridcolor": "white",
             "startlinecolor": "#2a3f5f"
            },
            "baxis": {
             "endlinecolor": "#2a3f5f",
             "gridcolor": "white",
             "linecolor": "white",
             "minorgridcolor": "white",
             "startlinecolor": "#2a3f5f"
            },
            "type": "carpet"
           }
          ],
          "choropleth": [
           {
            "colorbar": {
             "outlinewidth": 0,
             "ticks": ""
            },
            "type": "choropleth"
           }
          ],
          "contour": [
           {
            "colorbar": {
             "outlinewidth": 0,
             "ticks": ""
            },
            "colorscale": [
             [
              0,
              "#0d0887"
             ],
             [
              0.1111111111111111,
              "#46039f"
             ],
             [
              0.2222222222222222,
              "#7201a8"
             ],
             [
              0.3333333333333333,
              "#9c179e"
             ],
             [
              0.4444444444444444,
              "#bd3786"
             ],
             [
              0.5555555555555556,
              "#d8576b"
             ],
             [
              0.6666666666666666,
              "#ed7953"
             ],
             [
              0.7777777777777778,
              "#fb9f3a"
             ],
             [
              0.8888888888888888,
              "#fdca26"
             ],
             [
              1,
              "#f0f921"
             ]
            ],
            "type": "contour"
           }
          ],
          "contourcarpet": [
           {
            "colorbar": {
             "outlinewidth": 0,
             "ticks": ""
            },
            "type": "contourcarpet"
           }
          ],
          "heatmap": [
           {
            "colorbar": {
             "outlinewidth": 0,
             "ticks": ""
            },
            "colorscale": [
             [
              0,
              "#0d0887"
             ],
             [
              0.1111111111111111,
              "#46039f"
             ],
             [
              0.2222222222222222,
              "#7201a8"
             ],
             [
              0.3333333333333333,
              "#9c179e"
             ],
             [
              0.4444444444444444,
              "#bd3786"
             ],
             [
              0.5555555555555556,
              "#d8576b"
             ],
             [
              0.6666666666666666,
              "#ed7953"
             ],
             [
              0.7777777777777778,
              "#fb9f3a"
             ],
             [
              0.8888888888888888,
              "#fdca26"
             ],
             [
              1,
              "#f0f921"
             ]
            ],
            "type": "heatmap"
           }
          ],
          "heatmapgl": [
           {
            "colorbar": {
             "outlinewidth": 0,
             "ticks": ""
            },
            "colorscale": [
             [
              0,
              "#0d0887"
             ],
             [
              0.1111111111111111,
              "#46039f"
             ],
             [
              0.2222222222222222,
              "#7201a8"
             ],
             [
              0.3333333333333333,
              "#9c179e"
             ],
             [
              0.4444444444444444,
              "#bd3786"
             ],
             [
              0.5555555555555556,
              "#d8576b"
             ],
             [
              0.6666666666666666,
              "#ed7953"
             ],
             [
              0.7777777777777778,
              "#fb9f3a"
             ],
             [
              0.8888888888888888,
              "#fdca26"
             ],
             [
              1,
              "#f0f921"
             ]
            ],
            "type": "heatmapgl"
           }
          ],
          "histogram": [
           {
            "marker": {
             "pattern": {
              "fillmode": "overlay",
              "size": 10,
              "solidity": 0.2
             }
            },
            "type": "histogram"
           }
          ],
          "histogram2d": [
           {
            "colorbar": {
             "outlinewidth": 0,
             "ticks": ""
            },
            "colorscale": [
             [
              0,
              "#0d0887"
             ],
             [
              0.1111111111111111,
              "#46039f"
             ],
             [
              0.2222222222222222,
              "#7201a8"
             ],
             [
              0.3333333333333333,
              "#9c179e"
             ],
             [
              0.4444444444444444,
              "#bd3786"
             ],
             [
              0.5555555555555556,
              "#d8576b"
             ],
             [
              0.6666666666666666,
              "#ed7953"
             ],
             [
              0.7777777777777778,
              "#fb9f3a"
             ],
             [
              0.8888888888888888,
              "#fdca26"
             ],
             [
              1,
              "#f0f921"
             ]
            ],
            "type": "histogram2d"
           }
          ],
          "histogram2dcontour": [
           {
            "colorbar": {
             "outlinewidth": 0,
             "ticks": ""
            },
            "colorscale": [
             [
              0,
              "#0d0887"
             ],
             [
              0.1111111111111111,
              "#46039f"
             ],
             [
              0.2222222222222222,
              "#7201a8"
             ],
             [
              0.3333333333333333,
              "#9c179e"
             ],
             [
              0.4444444444444444,
              "#bd3786"
             ],
             [
              0.5555555555555556,
              "#d8576b"
             ],
             [
              0.6666666666666666,
              "#ed7953"
             ],
             [
              0.7777777777777778,
              "#fb9f3a"
             ],
             [
              0.8888888888888888,
              "#fdca26"
             ],
             [
              1,
              "#f0f921"
             ]
            ],
            "type": "histogram2dcontour"
           }
          ],
          "mesh3d": [
           {
            "colorbar": {
             "outlinewidth": 0,
             "ticks": ""
            },
            "type": "mesh3d"
           }
          ],
          "parcoords": [
           {
            "line": {
             "colorbar": {
              "outlinewidth": 0,
              "ticks": ""
             }
            },
            "type": "parcoords"
           }
          ],
          "pie": [
           {
            "automargin": true,
            "type": "pie"
           }
          ],
          "scatter": [
           {
            "fillpattern": {
             "fillmode": "overlay",
             "size": 10,
             "solidity": 0.2
            },
            "type": "scatter"
           }
          ],
          "scatter3d": [
           {
            "line": {
             "colorbar": {
              "outlinewidth": 0,
              "ticks": ""
             }
            },
            "marker": {
             "colorbar": {
              "outlinewidth": 0,
              "ticks": ""
             }
            },
            "type": "scatter3d"
           }
          ],
          "scattercarpet": [
           {
            "marker": {
             "colorbar": {
              "outlinewidth": 0,
              "ticks": ""
             }
            },
            "type": "scattercarpet"
           }
          ],
          "scattergeo": [
           {
            "marker": {
             "colorbar": {
              "outlinewidth": 0,
              "ticks": ""
             }
            },
            "type": "scattergeo"
           }
          ],
          "scattergl": [
           {
            "marker": {
             "colorbar": {
              "outlinewidth": 0,
              "ticks": ""
             }
            },
            "type": "scattergl"
           }
          ],
          "scattermapbox": [
           {
            "marker": {
             "colorbar": {
              "outlinewidth": 0,
              "ticks": ""
             }
            },
            "type": "scattermapbox"
           }
          ],
          "scatterpolar": [
           {
            "marker": {
             "colorbar": {
              "outlinewidth": 0,
              "ticks": ""
             }
            },
            "type": "scatterpolar"
           }
          ],
          "scatterpolargl": [
           {
            "marker": {
             "colorbar": {
              "outlinewidth": 0,
              "ticks": ""
             }
            },
            "type": "scatterpolargl"
           }
          ],
          "scatterternary": [
           {
            "marker": {
             "colorbar": {
              "outlinewidth": 0,
              "ticks": ""
             }
            },
            "type": "scatterternary"
           }
          ],
          "surface": [
           {
            "colorbar": {
             "outlinewidth": 0,
             "ticks": ""
            },
            "colorscale": [
             [
              0,
              "#0d0887"
             ],
             [
              0.1111111111111111,
              "#46039f"
             ],
             [
              0.2222222222222222,
              "#7201a8"
             ],
             [
              0.3333333333333333,
              "#9c179e"
             ],
             [
              0.4444444444444444,
              "#bd3786"
             ],
             [
              0.5555555555555556,
              "#d8576b"
             ],
             [
              0.6666666666666666,
              "#ed7953"
             ],
             [
              0.7777777777777778,
              "#fb9f3a"
             ],
             [
              0.8888888888888888,
              "#fdca26"
             ],
             [
              1,
              "#f0f921"
             ]
            ],
            "type": "surface"
           }
          ],
          "table": [
           {
            "cells": {
             "fill": {
              "color": "#EBF0F8"
             },
             "line": {
              "color": "white"
             }
            },
            "header": {
             "fill": {
              "color": "#C8D4E3"
             },
             "line": {
              "color": "white"
             }
            },
            "type": "table"
           }
          ]
         },
         "layout": {
          "annotationdefaults": {
           "arrowcolor": "#2a3f5f",
           "arrowhead": 0,
           "arrowwidth": 1
          },
          "autotypenumbers": "strict",
          "coloraxis": {
           "colorbar": {
            "outlinewidth": 0,
            "ticks": ""
           }
          },
          "colorscale": {
           "diverging": [
            [
             0,
             "#8e0152"
            ],
            [
             0.1,
             "#c51b7d"
            ],
            [
             0.2,
             "#de77ae"
            ],
            [
             0.3,
             "#f1b6da"
            ],
            [
             0.4,
             "#fde0ef"
            ],
            [
             0.5,
             "#f7f7f7"
            ],
            [
             0.6,
             "#e6f5d0"
            ],
            [
             0.7,
             "#b8e186"
            ],
            [
             0.8,
             "#7fbc41"
            ],
            [
             0.9,
             "#4d9221"
            ],
            [
             1,
             "#276419"
            ]
           ],
           "sequential": [
            [
             0,
             "#0d0887"
            ],
            [
             0.1111111111111111,
             "#46039f"
            ],
            [
             0.2222222222222222,
             "#7201a8"
            ],
            [
             0.3333333333333333,
             "#9c179e"
            ],
            [
             0.4444444444444444,
             "#bd3786"
            ],
            [
             0.5555555555555556,
             "#d8576b"
            ],
            [
             0.6666666666666666,
             "#ed7953"
            ],
            [
             0.7777777777777778,
             "#fb9f3a"
            ],
            [
             0.8888888888888888,
             "#fdca26"
            ],
            [
             1,
             "#f0f921"
            ]
           ],
           "sequentialminus": [
            [
             0,
             "#0d0887"
            ],
            [
             0.1111111111111111,
             "#46039f"
            ],
            [
             0.2222222222222222,
             "#7201a8"
            ],
            [
             0.3333333333333333,
             "#9c179e"
            ],
            [
             0.4444444444444444,
             "#bd3786"
            ],
            [
             0.5555555555555556,
             "#d8576b"
            ],
            [
             0.6666666666666666,
             "#ed7953"
            ],
            [
             0.7777777777777778,
             "#fb9f3a"
            ],
            [
             0.8888888888888888,
             "#fdca26"
            ],
            [
             1,
             "#f0f921"
            ]
           ]
          },
          "colorway": [
           "#636efa",
           "#EF553B",
           "#00cc96",
           "#ab63fa",
           "#FFA15A",
           "#19d3f3",
           "#FF6692",
           "#B6E880",
           "#FF97FF",
           "#FECB52"
          ],
          "font": {
           "color": "#2a3f5f"
          },
          "geo": {
           "bgcolor": "white",
           "lakecolor": "white",
           "landcolor": "#E5ECF6",
           "showlakes": true,
           "showland": true,
           "subunitcolor": "white"
          },
          "hoverlabel": {
           "align": "left"
          },
          "hovermode": "closest",
          "mapbox": {
           "style": "light"
          },
          "paper_bgcolor": "white",
          "plot_bgcolor": "#E5ECF6",
          "polar": {
           "angularaxis": {
            "gridcolor": "white",
            "linecolor": "white",
            "ticks": ""
           },
           "bgcolor": "#E5ECF6",
           "radialaxis": {
            "gridcolor": "white",
            "linecolor": "white",
            "ticks": ""
           }
          },
          "scene": {
           "xaxis": {
            "backgroundcolor": "#E5ECF6",
            "gridcolor": "white",
            "gridwidth": 2,
            "linecolor": "white",
            "showbackground": true,
            "ticks": "",
            "zerolinecolor": "white"
           },
           "yaxis": {
            "backgroundcolor": "#E5ECF6",
            "gridcolor": "white",
            "gridwidth": 2,
            "linecolor": "white",
            "showbackground": true,
            "ticks": "",
            "zerolinecolor": "white"
           },
           "zaxis": {
            "backgroundcolor": "#E5ECF6",
            "gridcolor": "white",
            "gridwidth": 2,
            "linecolor": "white",
            "showbackground": true,
            "ticks": "",
            "zerolinecolor": "white"
           }
          },
          "shapedefaults": {
           "line": {
            "color": "#2a3f5f"
           }
          },
          "ternary": {
           "aaxis": {
            "gridcolor": "white",
            "linecolor": "white",
            "ticks": ""
           },
           "baxis": {
            "gridcolor": "white",
            "linecolor": "white",
            "ticks": ""
           },
           "bgcolor": "#E5ECF6",
           "caxis": {
            "gridcolor": "white",
            "linecolor": "white",
            "ticks": ""
           }
          },
          "title": {
           "x": 0.05
          },
          "xaxis": {
           "automargin": true,
           "gridcolor": "white",
           "linecolor": "white",
           "ticks": "",
           "title": {
            "standoff": 15
           },
           "zerolinecolor": "white",
           "zerolinewidth": 2
          },
          "yaxis": {
           "automargin": true,
           "gridcolor": "white",
           "linecolor": "white",
           "ticks": "",
           "title": {
            "standoff": 15
           },
           "zerolinecolor": "white",
           "zerolinewidth": 2
          }
         }
        },
        "title": {
         "text": "Primary Indicators of Violence in Colombia (By Event Type in Cauca, Nariño, and<br>Valle del Cauca)"
        },
        "width": 800,
        "xaxis": {
         "anchor": "y",
         "domain": [
          0,
          0.45
         ],
         "dtick": 1
        },
        "xaxis2": {
         "anchor": "y2",
         "domain": [
          0.55,
          1
         ],
         "dtick": 1
        },
        "yaxis": {
         "anchor": "x",
         "domain": [
          0,
          1
         ],
         "rangemode": "tozero"
        },
        "yaxis2": {
         "anchor": "x2",
         "domain": [
          0,
          1
         ],
         "rangemode": "tozero"
        }
       }
      }
     },
     "metadata": {},
     "output_type": "display_data"
    }
   ],
   "source": [
    "event_types = col_departments_event['event_type'].unique()\n",
    "\n",
    "n_cols = 2\n",
    "n_rows = math.ceil(len(event_types) / n_cols)\n",
    "\n",
    "fig = make_subplots(rows=n_rows, cols=n_cols, subplot_titles=event_types)\n",
    "\n",
    "for i, tipo in enumerate(event_types):\n",
    "    row = (i // n_cols) + 1  \n",
    "    col = (i % n_cols) + 1  \n",
    "    col_depart_filt = col_departments_event[col_departments_event['event_type'] == tipo]\n",
    "    fig.add_trace(\n",
    "        go.Scatter(\n",
    "            x=col_depart_filt['month'], \n",
    "            y=col_depart_filt['events'], \n",
    "            mode='markers+lines+text',\n",
    "            text=col_depart_filt['events'],\n",
    "            textposition=\"top center\",\n",
    "        ),\n",
    "        row=row, col=col\n",
    "    )\n",
    "\n",
    "for j in range(1, n_rows+1):\n",
    "    for i in range(1, n_cols+1):\n",
    "        fig.update_xaxes(row=j, col=i, dtick=1)\n",
    "\n",
    "for j in range(1, n_rows+1):\n",
    "    for i in range(1, n_cols+1):\n",
    "        fig.update_yaxes(row=j, col=i, rangemode='tozero')\n",
    "\n",
    "fig.update_layout(\n",
    "    height=300 * n_rows,\n",
    "    width=800, \n",
    "    title_text=\"Primary Indicators of Violence in Colombia (By Event Type in Cauca, Nariño, and<br>Valle del Cauca)\",\n",
    "    showlegend=False\n",
    ")\n",
    "fig.show()"
   ]
  },
  {
   "cell_type": "code",
   "execution_count": 166,
   "id": "c10ae1e1",
   "metadata": {},
   "outputs": [
    {
     "name": "stderr",
     "output_type": "stream",
     "text": [
      "/var/folders/r6/5x15py7x16s1k88rwqp8v10w0000gn/T/ipykernel_10511/630121826.py:4: SettingWithCopyWarning:\n",
      "\n",
      "\n",
      "A value is trying to be set on a copy of a slice from a DataFrame.\n",
      "Try using .loc[row_indexer,col_indexer] = value instead\n",
      "\n",
      "See the caveats in the documentation: https://pandas.pydata.org/pandas-docs/stable/user_guide/indexing.html#returning-a-view-versus-a-copy\n",
      "\n",
      "/var/folders/r6/5x15py7x16s1k88rwqp8v10w0000gn/T/ipykernel_10511/630121826.py:5: SettingWithCopyWarning:\n",
      "\n",
      "\n",
      "A value is trying to be set on a copy of a slice from a DataFrame.\n",
      "Try using .loc[row_indexer,col_indexer] = value instead\n",
      "\n",
      "See the caveats in the documentation: https://pandas.pydata.org/pandas-docs/stable/user_guide/indexing.html#returning-a-view-versus-a-copy\n",
      "\n"
     ]
    },
    {
     "data": {
      "text/html": [
       "<div>\n",
       "<style scoped>\n",
       "    .dataframe tbody tr th:only-of-type {\n",
       "        vertical-align: middle;\n",
       "    }\n",
       "\n",
       "    .dataframe tbody tr th {\n",
       "        vertical-align: top;\n",
       "    }\n",
       "\n",
       "    .dataframe thead th {\n",
       "        text-align: right;\n",
       "    }\n",
       "</style>\n",
       "<table border=\"1\" class=\"dataframe\">\n",
       "  <thead>\n",
       "    <tr style=\"text-align: right;\">\n",
       "      <th></th>\n",
       "      <th>month</th>\n",
       "      <th>year</th>\n",
       "      <th>sub_event_type</th>\n",
       "      <th>events</th>\n",
       "    </tr>\n",
       "  </thead>\n",
       "  <tbody>\n",
       "    <tr>\n",
       "      <th>0</th>\n",
       "      <td>3</td>\n",
       "      <td>2024</td>\n",
       "      <td>Abduction/forced disappearance</td>\n",
       "      <td>5</td>\n",
       "    </tr>\n",
       "    <tr>\n",
       "      <th>1</th>\n",
       "      <td>3</td>\n",
       "      <td>2024</td>\n",
       "      <td>Armed clash</td>\n",
       "      <td>25</td>\n",
       "    </tr>\n",
       "    <tr>\n",
       "      <th>2</th>\n",
       "      <td>3</td>\n",
       "      <td>2024</td>\n",
       "      <td>Attack</td>\n",
       "      <td>19</td>\n",
       "    </tr>\n",
       "    <tr>\n",
       "      <th>3</th>\n",
       "      <td>3</td>\n",
       "      <td>2024</td>\n",
       "      <td>Remote explosive/landmine/IED</td>\n",
       "      <td>2</td>\n",
       "    </tr>\n",
       "    <tr>\n",
       "      <th>4</th>\n",
       "      <td>4</td>\n",
       "      <td>2024</td>\n",
       "      <td>Abduction/forced disappearance</td>\n",
       "      <td>4</td>\n",
       "    </tr>\n",
       "  </tbody>\n",
       "</table>\n",
       "</div>"
      ],
      "text/plain": [
       "   month  year                  sub_event_type  events\n",
       "0      3  2024  Abduction/forced disappearance       5\n",
       "1      3  2024                     Armed clash      25\n",
       "2      3  2024                          Attack      19\n",
       "3      3  2024   Remote explosive/landmine/IED       2\n",
       "4      4  2024  Abduction/forced disappearance       4"
      ]
     },
     "execution_count": 166,
     "metadata": {},
     "output_type": "execute_result"
    }
   ],
   "source": [
    "col_departments_subevent = pv_col[\n",
    "    (pv_col['sub_event_type'].isin(subevents)) &\n",
    "    (pv_col['admin1'].isin(departments))]\n",
    "col_departments_subevent['month'] = pd.to_datetime(col_departments_subevent['event_date']).dt.month\n",
    "col_departments_subevent['year'] = pd.to_datetime(col_departments_subevent['event_date']).dt.year\n",
    "\n",
    "col_departments_subevent = col_departments_subevent.groupby(['month', 'year', 'sub_event_type'])['events'].sum().reset_index()\n",
    "col_departments_subevent.head()"
   ]
  },
  {
   "cell_type": "code",
   "execution_count": 171,
   "id": "6dad5675",
   "metadata": {},
   "outputs": [
    {
     "data": {
      "application/vnd.plotly.v1+json": {
       "config": {
        "plotlyServerURL": "https://plot.ly"
       },
       "data": [
        {
         "mode": "markers+lines+text",
         "text": [
          5,
          4
         ],
         "textposition": "top center",
         "type": "scatter",
         "x": [
          3,
          4
         ],
         "xaxis": "x",
         "y": [
          5,
          4
         ],
         "yaxis": "y"
        },
        {
         "mode": "markers+lines+text",
         "text": [
          25,
          40
         ],
         "textposition": "top center",
         "type": "scatter",
         "x": [
          3,
          4
         ],
         "xaxis": "x2",
         "y": [
          25,
          40
         ],
         "yaxis": "y2"
        },
        {
         "mode": "markers+lines+text",
         "text": [
          19,
          12
         ],
         "textposition": "top center",
         "type": "scatter",
         "x": [
          3,
          4
         ],
         "xaxis": "x3",
         "y": [
          19,
          12
         ],
         "yaxis": "y3"
        },
        {
         "mode": "markers+lines+text",
         "text": [
          2,
          7
         ],
         "textposition": "top center",
         "type": "scatter",
         "x": [
          3,
          4
         ],
         "xaxis": "x4",
         "y": [
          2,
          7
         ],
         "yaxis": "y4"
        },
        {
         "mode": "markers+lines+text",
         "text": [
          1
         ],
         "textposition": "top center",
         "type": "scatter",
         "x": [
          4
         ],
         "xaxis": "x5",
         "y": [
          1
         ],
         "yaxis": "y5"
        }
       ],
       "layout": {
        "annotations": [
         {
          "font": {
           "size": 16
          },
          "showarrow": false,
          "text": "Abduction/forced disappearance",
          "x": 0.225,
          "xanchor": "center",
          "xref": "paper",
          "y": 1,
          "yanchor": "bottom",
          "yref": "paper"
         },
         {
          "font": {
           "size": 16
          },
          "showarrow": false,
          "text": "Armed clash",
          "x": 0.775,
          "xanchor": "center",
          "xref": "paper",
          "y": 1,
          "yanchor": "bottom",
          "yref": "paper"
         },
         {
          "font": {
           "size": 16
          },
          "showarrow": false,
          "text": "Attack",
          "x": 0.225,
          "xanchor": "center",
          "xref": "paper",
          "y": 0.6111111111111112,
          "yanchor": "bottom",
          "yref": "paper"
         },
         {
          "font": {
           "size": 16
          },
          "showarrow": false,
          "text": "Remote explosive/landmine/IED",
          "x": 0.775,
          "xanchor": "center",
          "xref": "paper",
          "y": 0.6111111111111112,
          "yanchor": "bottom",
          "yref": "paper"
         },
         {
          "font": {
           "size": 16
          },
          "showarrow": false,
          "text": "Grenade",
          "x": 0.225,
          "xanchor": "center",
          "xref": "paper",
          "y": 0.22222222222222224,
          "yanchor": "bottom",
          "yref": "paper"
         }
        ],
        "height": 900,
        "showlegend": false,
        "template": {
         "data": {
          "bar": [
           {
            "error_x": {
             "color": "#2a3f5f"
            },
            "error_y": {
             "color": "#2a3f5f"
            },
            "marker": {
             "line": {
              "color": "#E5ECF6",
              "width": 0.5
             },
             "pattern": {
              "fillmode": "overlay",
              "size": 10,
              "solidity": 0.2
             }
            },
            "type": "bar"
           }
          ],
          "barpolar": [
           {
            "marker": {
             "line": {
              "color": "#E5ECF6",
              "width": 0.5
             },
             "pattern": {
              "fillmode": "overlay",
              "size": 10,
              "solidity": 0.2
             }
            },
            "type": "barpolar"
           }
          ],
          "carpet": [
           {
            "aaxis": {
             "endlinecolor": "#2a3f5f",
             "gridcolor": "white",
             "linecolor": "white",
             "minorgridcolor": "white",
             "startlinecolor": "#2a3f5f"
            },
            "baxis": {
             "endlinecolor": "#2a3f5f",
             "gridcolor": "white",
             "linecolor": "white",
             "minorgridcolor": "white",
             "startlinecolor": "#2a3f5f"
            },
            "type": "carpet"
           }
          ],
          "choropleth": [
           {
            "colorbar": {
             "outlinewidth": 0,
             "ticks": ""
            },
            "type": "choropleth"
           }
          ],
          "contour": [
           {
            "colorbar": {
             "outlinewidth": 0,
             "ticks": ""
            },
            "colorscale": [
             [
              0,
              "#0d0887"
             ],
             [
              0.1111111111111111,
              "#46039f"
             ],
             [
              0.2222222222222222,
              "#7201a8"
             ],
             [
              0.3333333333333333,
              "#9c179e"
             ],
             [
              0.4444444444444444,
              "#bd3786"
             ],
             [
              0.5555555555555556,
              "#d8576b"
             ],
             [
              0.6666666666666666,
              "#ed7953"
             ],
             [
              0.7777777777777778,
              "#fb9f3a"
             ],
             [
              0.8888888888888888,
              "#fdca26"
             ],
             [
              1,
              "#f0f921"
             ]
            ],
            "type": "contour"
           }
          ],
          "contourcarpet": [
           {
            "colorbar": {
             "outlinewidth": 0,
             "ticks": ""
            },
            "type": "contourcarpet"
           }
          ],
          "heatmap": [
           {
            "colorbar": {
             "outlinewidth": 0,
             "ticks": ""
            },
            "colorscale": [
             [
              0,
              "#0d0887"
             ],
             [
              0.1111111111111111,
              "#46039f"
             ],
             [
              0.2222222222222222,
              "#7201a8"
             ],
             [
              0.3333333333333333,
              "#9c179e"
             ],
             [
              0.4444444444444444,
              "#bd3786"
             ],
             [
              0.5555555555555556,
              "#d8576b"
             ],
             [
              0.6666666666666666,
              "#ed7953"
             ],
             [
              0.7777777777777778,
              "#fb9f3a"
             ],
             [
              0.8888888888888888,
              "#fdca26"
             ],
             [
              1,
              "#f0f921"
             ]
            ],
            "type": "heatmap"
           }
          ],
          "heatmapgl": [
           {
            "colorbar": {
             "outlinewidth": 0,
             "ticks": ""
            },
            "colorscale": [
             [
              0,
              "#0d0887"
             ],
             [
              0.1111111111111111,
              "#46039f"
             ],
             [
              0.2222222222222222,
              "#7201a8"
             ],
             [
              0.3333333333333333,
              "#9c179e"
             ],
             [
              0.4444444444444444,
              "#bd3786"
             ],
             [
              0.5555555555555556,
              "#d8576b"
             ],
             [
              0.6666666666666666,
              "#ed7953"
             ],
             [
              0.7777777777777778,
              "#fb9f3a"
             ],
             [
              0.8888888888888888,
              "#fdca26"
             ],
             [
              1,
              "#f0f921"
             ]
            ],
            "type": "heatmapgl"
           }
          ],
          "histogram": [
           {
            "marker": {
             "pattern": {
              "fillmode": "overlay",
              "size": 10,
              "solidity": 0.2
             }
            },
            "type": "histogram"
           }
          ],
          "histogram2d": [
           {
            "colorbar": {
             "outlinewidth": 0,
             "ticks": ""
            },
            "colorscale": [
             [
              0,
              "#0d0887"
             ],
             [
              0.1111111111111111,
              "#46039f"
             ],
             [
              0.2222222222222222,
              "#7201a8"
             ],
             [
              0.3333333333333333,
              "#9c179e"
             ],
             [
              0.4444444444444444,
              "#bd3786"
             ],
             [
              0.5555555555555556,
              "#d8576b"
             ],
             [
              0.6666666666666666,
              "#ed7953"
             ],
             [
              0.7777777777777778,
              "#fb9f3a"
             ],
             [
              0.8888888888888888,
              "#fdca26"
             ],
             [
              1,
              "#f0f921"
             ]
            ],
            "type": "histogram2d"
           }
          ],
          "histogram2dcontour": [
           {
            "colorbar": {
             "outlinewidth": 0,
             "ticks": ""
            },
            "colorscale": [
             [
              0,
              "#0d0887"
             ],
             [
              0.1111111111111111,
              "#46039f"
             ],
             [
              0.2222222222222222,
              "#7201a8"
             ],
             [
              0.3333333333333333,
              "#9c179e"
             ],
             [
              0.4444444444444444,
              "#bd3786"
             ],
             [
              0.5555555555555556,
              "#d8576b"
             ],
             [
              0.6666666666666666,
              "#ed7953"
             ],
             [
              0.7777777777777778,
              "#fb9f3a"
             ],
             [
              0.8888888888888888,
              "#fdca26"
             ],
             [
              1,
              "#f0f921"
             ]
            ],
            "type": "histogram2dcontour"
           }
          ],
          "mesh3d": [
           {
            "colorbar": {
             "outlinewidth": 0,
             "ticks": ""
            },
            "type": "mesh3d"
           }
          ],
          "parcoords": [
           {
            "line": {
             "colorbar": {
              "outlinewidth": 0,
              "ticks": ""
             }
            },
            "type": "parcoords"
           }
          ],
          "pie": [
           {
            "automargin": true,
            "type": "pie"
           }
          ],
          "scatter": [
           {
            "fillpattern": {
             "fillmode": "overlay",
             "size": 10,
             "solidity": 0.2
            },
            "type": "scatter"
           }
          ],
          "scatter3d": [
           {
            "line": {
             "colorbar": {
              "outlinewidth": 0,
              "ticks": ""
             }
            },
            "marker": {
             "colorbar": {
              "outlinewidth": 0,
              "ticks": ""
             }
            },
            "type": "scatter3d"
           }
          ],
          "scattercarpet": [
           {
            "marker": {
             "colorbar": {
              "outlinewidth": 0,
              "ticks": ""
             }
            },
            "type": "scattercarpet"
           }
          ],
          "scattergeo": [
           {
            "marker": {
             "colorbar": {
              "outlinewidth": 0,
              "ticks": ""
             }
            },
            "type": "scattergeo"
           }
          ],
          "scattergl": [
           {
            "marker": {
             "colorbar": {
              "outlinewidth": 0,
              "ticks": ""
             }
            },
            "type": "scattergl"
           }
          ],
          "scattermapbox": [
           {
            "marker": {
             "colorbar": {
              "outlinewidth": 0,
              "ticks": ""
             }
            },
            "type": "scattermapbox"
           }
          ],
          "scatterpolar": [
           {
            "marker": {
             "colorbar": {
              "outlinewidth": 0,
              "ticks": ""
             }
            },
            "type": "scatterpolar"
           }
          ],
          "scatterpolargl": [
           {
            "marker": {
             "colorbar": {
              "outlinewidth": 0,
              "ticks": ""
             }
            },
            "type": "scatterpolargl"
           }
          ],
          "scatterternary": [
           {
            "marker": {
             "colorbar": {
              "outlinewidth": 0,
              "ticks": ""
             }
            },
            "type": "scatterternary"
           }
          ],
          "surface": [
           {
            "colorbar": {
             "outlinewidth": 0,
             "ticks": ""
            },
            "colorscale": [
             [
              0,
              "#0d0887"
             ],
             [
              0.1111111111111111,
              "#46039f"
             ],
             [
              0.2222222222222222,
              "#7201a8"
             ],
             [
              0.3333333333333333,
              "#9c179e"
             ],
             [
              0.4444444444444444,
              "#bd3786"
             ],
             [
              0.5555555555555556,
              "#d8576b"
             ],
             [
              0.6666666666666666,
              "#ed7953"
             ],
             [
              0.7777777777777778,
              "#fb9f3a"
             ],
             [
              0.8888888888888888,
              "#fdca26"
             ],
             [
              1,
              "#f0f921"
             ]
            ],
            "type": "surface"
           }
          ],
          "table": [
           {
            "cells": {
             "fill": {
              "color": "#EBF0F8"
             },
             "line": {
              "color": "white"
             }
            },
            "header": {
             "fill": {
              "color": "#C8D4E3"
             },
             "line": {
              "color": "white"
             }
            },
            "type": "table"
           }
          ]
         },
         "layout": {
          "annotationdefaults": {
           "arrowcolor": "#2a3f5f",
           "arrowhead": 0,
           "arrowwidth": 1
          },
          "autotypenumbers": "strict",
          "coloraxis": {
           "colorbar": {
            "outlinewidth": 0,
            "ticks": ""
           }
          },
          "colorscale": {
           "diverging": [
            [
             0,
             "#8e0152"
            ],
            [
             0.1,
             "#c51b7d"
            ],
            [
             0.2,
             "#de77ae"
            ],
            [
             0.3,
             "#f1b6da"
            ],
            [
             0.4,
             "#fde0ef"
            ],
            [
             0.5,
             "#f7f7f7"
            ],
            [
             0.6,
             "#e6f5d0"
            ],
            [
             0.7,
             "#b8e186"
            ],
            [
             0.8,
             "#7fbc41"
            ],
            [
             0.9,
             "#4d9221"
            ],
            [
             1,
             "#276419"
            ]
           ],
           "sequential": [
            [
             0,
             "#0d0887"
            ],
            [
             0.1111111111111111,
             "#46039f"
            ],
            [
             0.2222222222222222,
             "#7201a8"
            ],
            [
             0.3333333333333333,
             "#9c179e"
            ],
            [
             0.4444444444444444,
             "#bd3786"
            ],
            [
             0.5555555555555556,
             "#d8576b"
            ],
            [
             0.6666666666666666,
             "#ed7953"
            ],
            [
             0.7777777777777778,
             "#fb9f3a"
            ],
            [
             0.8888888888888888,
             "#fdca26"
            ],
            [
             1,
             "#f0f921"
            ]
           ],
           "sequentialminus": [
            [
             0,
             "#0d0887"
            ],
            [
             0.1111111111111111,
             "#46039f"
            ],
            [
             0.2222222222222222,
             "#7201a8"
            ],
            [
             0.3333333333333333,
             "#9c179e"
            ],
            [
             0.4444444444444444,
             "#bd3786"
            ],
            [
             0.5555555555555556,
             "#d8576b"
            ],
            [
             0.6666666666666666,
             "#ed7953"
            ],
            [
             0.7777777777777778,
             "#fb9f3a"
            ],
            [
             0.8888888888888888,
             "#fdca26"
            ],
            [
             1,
             "#f0f921"
            ]
           ]
          },
          "colorway": [
           "#636efa",
           "#EF553B",
           "#00cc96",
           "#ab63fa",
           "#FFA15A",
           "#19d3f3",
           "#FF6692",
           "#B6E880",
           "#FF97FF",
           "#FECB52"
          ],
          "font": {
           "color": "#2a3f5f"
          },
          "geo": {
           "bgcolor": "white",
           "lakecolor": "white",
           "landcolor": "#E5ECF6",
           "showlakes": true,
           "showland": true,
           "subunitcolor": "white"
          },
          "hoverlabel": {
           "align": "left"
          },
          "hovermode": "closest",
          "mapbox": {
           "style": "light"
          },
          "paper_bgcolor": "white",
          "plot_bgcolor": "#E5ECF6",
          "polar": {
           "angularaxis": {
            "gridcolor": "white",
            "linecolor": "white",
            "ticks": ""
           },
           "bgcolor": "#E5ECF6",
           "radialaxis": {
            "gridcolor": "white",
            "linecolor": "white",
            "ticks": ""
           }
          },
          "scene": {
           "xaxis": {
            "backgroundcolor": "#E5ECF6",
            "gridcolor": "white",
            "gridwidth": 2,
            "linecolor": "white",
            "showbackground": true,
            "ticks": "",
            "zerolinecolor": "white"
           },
           "yaxis": {
            "backgroundcolor": "#E5ECF6",
            "gridcolor": "white",
            "gridwidth": 2,
            "linecolor": "white",
            "showbackground": true,
            "ticks": "",
            "zerolinecolor": "white"
           },
           "zaxis": {
            "backgroundcolor": "#E5ECF6",
            "gridcolor": "white",
            "gridwidth": 2,
            "linecolor": "white",
            "showbackground": true,
            "ticks": "",
            "zerolinecolor": "white"
           }
          },
          "shapedefaults": {
           "line": {
            "color": "#2a3f5f"
           }
          },
          "ternary": {
           "aaxis": {
            "gridcolor": "white",
            "linecolor": "white",
            "ticks": ""
           },
           "baxis": {
            "gridcolor": "white",
            "linecolor": "white",
            "ticks": ""
           },
           "bgcolor": "#E5ECF6",
           "caxis": {
            "gridcolor": "white",
            "linecolor": "white",
            "ticks": ""
           }
          },
          "title": {
           "x": 0.05
          },
          "xaxis": {
           "automargin": true,
           "gridcolor": "white",
           "linecolor": "white",
           "ticks": "",
           "title": {
            "standoff": 15
           },
           "zerolinecolor": "white",
           "zerolinewidth": 2
          },
          "yaxis": {
           "automargin": true,
           "gridcolor": "white",
           "linecolor": "white",
           "ticks": "",
           "title": {
            "standoff": 15
           },
           "zerolinecolor": "white",
           "zerolinewidth": 2
          }
         }
        },
        "title": {
         "text": "Primary Indicators of Violence in Colombia (By Sub-Event Type in Cauca, Nariño, and<br>Valle del Cauca)"
        },
        "width": 800,
        "xaxis": {
         "anchor": "y",
         "domain": [
          0,
          0.45
         ],
         "dtick": 1
        },
        "xaxis2": {
         "anchor": "y2",
         "domain": [
          0.55,
          1
         ],
         "dtick": 1
        },
        "xaxis3": {
         "anchor": "y3",
         "domain": [
          0,
          0.45
         ],
         "dtick": 1
        },
        "xaxis4": {
         "anchor": "y4",
         "domain": [
          0.55,
          1
         ],
         "dtick": 1
        },
        "xaxis5": {
         "anchor": "y5",
         "domain": [
          0,
          0.45
         ],
         "dtick": 1
        },
        "xaxis6": {
         "anchor": "y6",
         "domain": [
          0.55,
          1
         ],
         "dtick": 1
        },
        "yaxis": {
         "anchor": "x",
         "domain": [
          0.7777777777777778,
          1
         ],
         "rangemode": "tozero"
        },
        "yaxis2": {
         "anchor": "x2",
         "domain": [
          0.7777777777777778,
          1
         ],
         "rangemode": "tozero"
        },
        "yaxis3": {
         "anchor": "x3",
         "domain": [
          0.3888888888888889,
          0.6111111111111112
         ],
         "rangemode": "tozero"
        },
        "yaxis4": {
         "anchor": "x4",
         "domain": [
          0.3888888888888889,
          0.6111111111111112
         ],
         "rangemode": "tozero"
        },
        "yaxis5": {
         "anchor": "x5",
         "domain": [
          0,
          0.22222222222222224
         ],
         "rangemode": "tozero"
        },
        "yaxis6": {
         "anchor": "x6",
         "domain": [
          0,
          0.22222222222222224
         ],
         "rangemode": "tozero"
        }
       }
      }
     },
     "metadata": {},
     "output_type": "display_data"
    }
   ],
   "source": [
    "subevent_types = col_departments_subevent['sub_event_type'].unique()\n",
    "\n",
    "n_cols = 2\n",
    "n_rows = math.ceil(len(subevent_types) / n_cols)\n",
    "\n",
    "fig = make_subplots(rows=n_rows, cols=n_cols, subplot_titles=subevent_types)\n",
    "\n",
    "for i, tipo in enumerate(subevent_types):\n",
    "    row = (i // n_cols) + 1  \n",
    "    col = (i % n_cols) + 1  \n",
    "    col_departsub_filt = col_departments_subevent[col_departments_subevent['sub_event_type'] == tipo]\n",
    "    fig.add_trace(\n",
    "        go.Scatter(\n",
    "            x=col_departsub_filt['month'], \n",
    "            y=col_departsub_filt['events'], \n",
    "            mode='markers+lines+text',\n",
    "            text=col_departsub_filt['events'],\n",
    "            textposition=\"top center\",\n",
    "        ),\n",
    "        row=row, col=col\n",
    "    )\n",
    "\n",
    "for j in range(1, n_rows+1):\n",
    "    for i in range(1, n_cols+1):\n",
    "        fig.update_xaxes(row=j, col=i, dtick=1)\n",
    "\n",
    "for j in range(1, n_rows+1):\n",
    "    for i in range(1, n_cols+1):\n",
    "        fig.update_yaxes(row=j, col=i, rangemode='tozero')\n",
    "\n",
    "fig.update_layout(\n",
    "    height=300 * n_rows,\n",
    "    width=800, \n",
    "    title_text=\"Primary Indicators of Violence in Colombia (By Sub-Event Type in Cauca, Nariño, and<br>Valle del Cauca)\",\n",
    "    showlegend=False\n",
    ")\n",
    "fig.show()"
   ]
  }
 ],
 "metadata": {
  "kernelspec": {
   "display_name": "Python 3 (ipykernel)",
   "language": "python",
   "name": "python3"
  },
  "language_info": {
   "codemirror_mode": {
    "name": "ipython",
    "version": 3
   },
   "file_extension": ".py",
   "mimetype": "text/x-python",
   "name": "python",
   "nbconvert_exporter": "python",
   "pygments_lexer": "ipython3",
   "version": "3.11.4"
  }
 },
 "nbformat": 4,
 "nbformat_minor": 5
}
